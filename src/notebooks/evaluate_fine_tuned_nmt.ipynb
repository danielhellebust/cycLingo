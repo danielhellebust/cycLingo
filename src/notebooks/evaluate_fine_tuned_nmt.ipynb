{
 "cells": [
  {
   "cell_type": "code",
   "execution_count": 6,
   "metadata": {
    "collapsed": true
   },
   "outputs": [],
   "source": [
    "from datasets import load_dataset, load_metric\n",
    "\n"
   ]
  },
  {
   "cell_type": "code",
   "execution_count": 7,
   "outputs": [
    {
     "name": "stderr",
     "output_type": "stream",
     "text": [
      "C:\\Users\\danie\\AppData\\Local\\Temp\\ipykernel_10232\\1900502390.py:1: FutureWarning: load_metric is deprecated and will be removed in the next major version of datasets. Use 'evaluate.load' instead, from the new library 🤗 Evaluate: https://huggingface.co/docs/evaluate\n",
      "  metric = load_metric('sacrebleu')\n"
     ]
    }
   ],
   "source": [
    "metric = load_metric('sacrebleu')"
   ],
   "metadata": {
    "collapsed": false
   }
  },
  {
   "cell_type": "code",
   "execution_count": 3,
   "outputs": [
    {
     "data": {
      "text/plain": "Metric(name: \"sacrebleu\", features: {'predictions': Value(dtype='string', id='sequence'), 'references': Sequence(feature=Value(dtype='string', id='sequence'), length=-1, id='references')}, usage: \"\"\"\nProduces BLEU scores along with its sufficient statistics\nfrom a source against one or more references.\n\nArgs:\n    predictions (`list` of `str`): list of translations to score. Each translation should be tokenized into a list of tokens.\n    references (`list` of `list` of `str`): A list of lists of references. The contents of the first sub-list are the references for the first prediction, the contents of the second sub-list are for the second prediction, etc. Note that there must be the same number of references for each prediction (i.e. all sub-lists must be of the same length).\n    smooth_method (`str`): The smoothing method to use, defaults to `'exp'`. Possible values are:\n        - `'none'`: no smoothing\n        - `'floor'`: increment zero counts\n        - `'add-k'`: increment num/denom by k for n>1\n        - `'exp'`: exponential decay\n    smooth_value (`float`): The smoothing value. Only valid when `smooth_method='floor'` (in which case `smooth_value` defaults to `0.1`) or `smooth_method='add-k'` (in which case `smooth_value` defaults to `1`).\n    tokenize (`str`): Tokenization method to use for BLEU. If not provided, defaults to `'zh'` for Chinese, `'ja-mecab'` for Japanese and `'13a'` (mteval) otherwise. Possible values are:\n        - `'none'`: No tokenization.\n        - `'zh'`: Chinese tokenization.\n        - `'13a'`: mimics the `mteval-v13a` script from Moses.\n        - `'intl'`: International tokenization, mimics the `mteval-v14` script from Moses\n        - `'char'`: Language-agnostic character-level tokenization.\n        - `'ja-mecab'`: Japanese tokenization. Uses the [MeCab tokenizer](https://pypi.org/project/mecab-python3).\n    lowercase (`bool`): If `True`, lowercases the input, enabling case-insensitivity. Defaults to `False`.\n    force (`bool`): If `True`, insists that your tokenized input is actually detokenized. Defaults to `False`.\n    use_effective_order (`bool`): If `True`, stops including n-gram orders for which precision is 0. This should be `True`, if sentence-level BLEU will be computed. Defaults to `False`.\n\nReturns:\n    'score': BLEU score,\n    'counts': Counts,\n    'totals': Totals,\n    'precisions': Precisions,\n    'bp': Brevity penalty,\n    'sys_len': predictions length,\n    'ref_len': reference length,\n\nExamples:\n\n    Example 1:\n        >>> predictions = [\"hello there general kenobi\", \"foo bar foobar\"]\n        >>> references = [[\"hello there general kenobi\", \"hello there !\"], [\"foo bar foobar\", \"foo bar foobar\"]]\n        >>> sacrebleu = datasets.load_metric(\"sacrebleu\")\n        >>> results = sacrebleu.compute(predictions=predictions, references=references)\n        >>> print(list(results.keys()))\n        ['score', 'counts', 'totals', 'precisions', 'bp', 'sys_len', 'ref_len']\n        >>> print(round(results[\"score\"], 1))\n        100.0\n\n    Example 2:\n        >>> predictions = [\"hello there general kenobi\",\n        ...                 \"on our way to ankh morpork\"]\n        >>> references = [[\"hello there general kenobi\", \"hello there !\"],\n        ...                 [\"goodbye ankh morpork\", \"ankh morpork\"]]\n        >>> sacrebleu = datasets.load_metric(\"sacrebleu\")\n        >>> results = sacrebleu.compute(predictions=predictions,\n        ...                             references=references)\n        >>> print(list(results.keys()))\n        ['score', 'counts', 'totals', 'precisions', 'bp', 'sys_len', 'ref_len']\n        >>> print(round(results[\"score\"], 1))\n        39.8\n\"\"\", stored examples: 0)"
     },
     "execution_count": 3,
     "metadata": {},
     "output_type": "execute_result"
    }
   ],
   "source": [
    "metric"
   ],
   "metadata": {
    "collapsed": false
   }
  },
  {
   "cell_type": "code",
   "execution_count": 4,
   "outputs": [
    {
     "name": "stdout",
     "output_type": "stream",
     "text": [
      "61.0\n"
     ]
    }
   ],
   "source": [
    "predictions = ['''\n",
    "Strammingen på kjedet bør settes slik at du kan trekke den ca 1 unna oppreist når vognen er ca 5 fot fra bakken.''']\n",
    "references = [['''\n",
    "Spenningen på kjedet bør settes slik at du kan trekke den ca 1 bort fra oppreist når vognen er rundt 5 meter fra bakken.''']]\n",
    "sacrebleu = metric\n",
    "results = sacrebleu.compute(predictions=predictions, references=references)\n",
    "print(round(results[\"score\"],1))\n",
    "\n"
   ],
   "metadata": {
    "collapsed": false
   }
  },
  {
   "cell_type": "code",
   "execution_count": 5,
   "outputs": [
    {
     "data": {
      "text/plain": "                                                  en  \\\n0  This is because the right side is displaced fo...   \n1  Add headset spacers under the upper plate as n...   \n2  Repeat impacting the BBT-30.4 driver until one...   \n3  Impacts to the side of the rim from falling do...   \n4  Check the dish reference on both sides, and re...   \n\n                                                  no  \n0  Dette skyldes at høyre side forskyves fremover...  \n1  Legg styrelager spacere under den øvre platen ...  \n2  Fortsett å bruk BBT-30.4 til en lagerskålene e...  \n3  Påvirkning på siden av felgen fra fall eller k...  \n4  Kontroller sentreringsreferansen på begge side...  ",
      "text/html": "<div>\n<style scoped>\n    .dataframe tbody tr th:only-of-type {\n        vertical-align: middle;\n    }\n\n    .dataframe tbody tr th {\n        vertical-align: top;\n    }\n\n    .dataframe thead th {\n        text-align: right;\n    }\n</style>\n<table border=\"1\" class=\"dataframe\">\n  <thead>\n    <tr style=\"text-align: right;\">\n      <th></th>\n      <th>en</th>\n      <th>no</th>\n    </tr>\n  </thead>\n  <tbody>\n    <tr>\n      <th>0</th>\n      <td>This is because the right side is displaced fo...</td>\n      <td>Dette skyldes at høyre side forskyves fremover...</td>\n    </tr>\n    <tr>\n      <th>1</th>\n      <td>Add headset spacers under the upper plate as n...</td>\n      <td>Legg styrelager spacere under den øvre platen ...</td>\n    </tr>\n    <tr>\n      <th>2</th>\n      <td>Repeat impacting the BBT-30.4 driver until one...</td>\n      <td>Fortsett å bruk BBT-30.4 til en lagerskålene e...</td>\n    </tr>\n    <tr>\n      <th>3</th>\n      <td>Impacts to the side of the rim from falling do...</td>\n      <td>Påvirkning på siden av felgen fra fall eller k...</td>\n    </tr>\n    <tr>\n      <th>4</th>\n      <td>Check the dish reference on both sides, and re...</td>\n      <td>Kontroller sentreringsreferansen på begge side...</td>\n    </tr>\n  </tbody>\n</table>\n</div>"
     },
     "execution_count": 5,
     "metadata": {},
     "output_type": "execute_result"
    }
   ],
   "source": [
    "with open('sentence_pair_test.jsonl', 'r', encoding='utf-8') as f:\n",
    "    dataset = f.readlines()\n",
    "\n",
    "dataset_list = [eval(i)['translation'] for i in dataset]\n",
    "dataset_list\n",
    "\n",
    "import pandas as pd\n",
    "\n",
    "df = pd.DataFrame.from_dict(dataset_list)\n",
    "df.head()"
   ],
   "metadata": {
    "collapsed": false
   }
  },
  {
   "cell_type": "code",
   "execution_count": 6,
   "outputs": [],
   "source": [
    "from transformers import MarianMTModel, MarianTokenizer\n",
    "\n",
    "\n",
    "def translator_initial(src_text):\n",
    "    input_text = f'>>nob<<{src_text}'\n",
    "    model_name_initial = 'Helsinki-NLP/opus-mt-tc-big-en-gmq'\n",
    "    tokenizer_initial = MarianTokenizer.from_pretrained(model_name_initial)\n",
    "    model_initial = MarianMTModel.from_pretrained(model_name_initial)\n",
    "    translated_initial = model_initial.generate(**tokenizer_initial(input_text, return_tensors=\"pt\", padding=True))\n",
    "    result_initial = [tokenizer_initial.decode(t, skip_special_tokens=True) for t in translated_initial]\n",
    "\n",
    "    print(result_initial)\n",
    "\n",
    "    return result_initial[0]\n",
    "\n",
    "def translator_finetuned(src_text):\n",
    "    input_text = f'>>nob<<{src_text}'\n",
    "    model_name = 'opus-mt-tc-big-en-gmq-finetuned-en-to-no/checkpoint-4000'\n",
    "    tokenizer = MarianTokenizer.from_pretrained(model_name)\n",
    "    model = MarianMTModel.from_pretrained(model_name)\n",
    "    translated = model.generate(**tokenizer(input_text, return_tensors=\"pt\", padding=True))\n",
    "    result = [tokenizer.decode(t, skip_special_tokens=True) for t in translated]\n",
    "\n",
    "    print(result)\n",
    "\n",
    "    return result[0]"
   ],
   "metadata": {
    "collapsed": false
   }
  },
  {
   "cell_type": "code",
   "execution_count": null,
   "outputs": [],
   "source": [],
   "metadata": {
    "collapsed": false
   }
  },
  {
   "cell_type": "code",
   "execution_count": 7,
   "outputs": [
    {
     "name": "stderr",
     "output_type": "stream",
     "text": [
      "C:\\Users\\danie\\PycharmProjects\\Bicycle_translator\\bike_env\\lib\\site-packages\\transformers\\generation\\utils.py:1387: UserWarning: Neither `max_length` nor `max_new_tokens` has been set, `max_length` will default to 512 (`self.config.max_length`). Controlling `max_length` via the config is deprecated and `max_length` will be removed from the config in v5 of Transformers -- we recommend using `max_new_tokens` to control the maximum length of the generation.\n",
      "  warnings.warn(\n"
     ]
    },
    {
     "name": "stdout",
     "output_type": "stream",
     "text": [
      "['Dette skyldes at den høyre siden er forskjøvet fremover av hengerbraketten.']\n",
      "['Legg hodesettet avstandsstykker under den øvre platen etter behov.']\n",
      "['Gjenta å påvirke BBT-30.4 driveren til en lagerkopp er helt ut.']\n",
      "['Virkninger på siden av felgen fra å falle ned eller krasje kan også forårsake skade.']\n",
      "['Kontroller tallerkenreferansen på begge sider, og gjenta etter behov til hjulet viser en 1 mm eller mindre gap ved navet.']\n",
      "['Det anbefales også å bruke beskyttelseshansker som MG-2, og bruke øyebeskyttelse.']\n",
      "['Det er en vane for mange mekanikere å sette trådlåseforbindelsen på den eksterne tråden.']\n",
      "['Utformingen er en variant av cantileverbremsen.']\n",
      "['Plukk opp forsiden av sykkelen, og forsiktig svinge styret frem og tilbake fra midten.']\n",
      "['Avid skivekaliperbremser bruker et kule-og-socket-system for kalibermonteringsboltene.']\n",
      "['Det høyre bildet er den ekstreme innoverbevegelsen til klossen, eller mer andefot.']\n",
      "['Bruk en kjederenser som Park Tool CM-5.3 Cyclone Chain Scrubber.']\n",
      "['Det neste målet er å jevnt trekke opp spenningen i hjulet.']\n",
      "['Det vil være nødvendig å veldig nøye bruke en tetningsplukk for å fjerne den indre bøssingen.']\n",
      "['Hvis det ikke går inn, er kjeden din ennå ikke 0,5 prosent slitt.']\n",
      "['Spenningen på kjeden skal settes slik at du kan trekke den omtrent 1 bort fra oppreist når vognen er rundt 5 meter fra bakken.']\n",
      "['Expoy eller hardt lim ville ha en tendens til å knuse når det blir påvirket i stedet for å gi under et sjokk.']\n",
      "['Sykkelen som er illustrert her er 9,8 mm utenfor, noe som gjør den 4,9 mm til midten.']\n",
      "['Det andre tallet er mengden av mulig komprimering.']\n",
      "['Når du har de riktige eiker for felgen og navet, er du klar til å blonder og bygge hjulet se Hvordan bygge et hjul for hele prosessen.']\n",
      "['Smøring av nippeltråder bør gjøres rutinemessig fordi korrosjon og rust i disse trådene vil gjøre hjulet un-true-able.']\n",
      "['Veiskiftere har noen ganger muligheter for å kjøre huset foran, bak eller ut siden av spaken.']\n",
      "['Eventuell gjenværende maling indikerer et lavere område enn et nytt kutt.']\n",
      "['DAG-2.2 og DAG-3 (samt nyere DAG-2 modeller) kommer med 2 O-ringer for glidebryteren.']\n",
      "['Hvis armene ikke åpnes helt når de klemmes forsiktig, kan justeringen bli for stram.']\n",
      "['For ikke-klebende bånd, overlapper slik at omtrent halvparten av båndet er på bar.']\n",
      "['En bøyd tann vil lage en lyd og noen ganger fange kjeden.']\n",
      "['Gjør dette for resten av eiker som du går videre også.']\n",
      "['Etter å ha bekreftet at hjulet er riktig sittende, er det greit å begynne å truing rotoren, men det er alltid godt å vite andre ting som fører til rotoren gni:']\n",
      "['Det finnes mange forskjellige dekk- og hjulstørrelser.']\n",
      "['Sikre luften kan øyet i de myke kjever av en skrustikke, (AV-5 fungerer bra) og klemme mellom hullene i kjeven.']\n",
      "['Denne artikkelen vil gjennomgå fjerning og installasjon av kassett tannhjul på girkasse-type sykler.']\n",
      "['Mange headsetkopper holdes på plass av en pressepassform.']\n",
      "['Denne blødningsprosedyren vil fungere på SRAM slipp bar og flat bar bremser som har Bleeding Edge.']\n",
      "['For presisjonsdiskarbeid er TS-2, TS-2.2, TS-2.3 og TS-4.2 ment å brukes med et diskverktøy, for eksempel Park Tool WAG-4 eller WAG-5.']\n",
      "['Når du arbeider med et karbonstyrerør, er det viktig å ha styrerøret gå hele veien gjennom stammen, for å redusere stress på enden av styrerøret.']\n",
      "['Remskivene kan fjernes for rengjøring.']\n",
      "['Den første metoden for å kontrollere kjedeslitasje er å bare løfte kjedet av den fremre kjederingen.']\n",
      "['Praxis modeller kan bruke en innvendig hylse som må fjernes for utskifting.']\n",
      "['Når du truer hjul, begynner du vanligvis først ved å korrigere den laterale sannheten.']\n",
      "['Fordi dekk perler kan være en tett passform i felgen, er det ofte nødvendig å dekk spaker å pry dekk perle opp og over felgen sidevegg.']\n",
      "['Målt i millimeter er pedalens OD typisk 14,2 mm.']\n",
      "['Klem spaken med kraft til å bosette seg i kabel og hus og for å teste sikkerheten til kabel klemme bolt.']\n",
      "['Klemmen kan beveges under sålen av skoen forover, bakover, roteres og skyves fra venstre mot høyre (fig. 7).']\n",
      "['Hvis kjeden ikke skifter til den minste tannhjul, er det sannsynlig å bli stoppet enten av grenseskruen eller kabelinnstillingen.']\n",
      "['Dette er spesielt tilfelle for firkantet type spindler fordi den nøyaktige passformen inne i firkantet montering av kranker varierer mellom merker og til og med mellom armer av samme modell.']\n",
      "['Hvis den fremre girspaken har flere klikk, for eksempel noen vri grep stil shifters, er det forskjøvet lik friksjon spaker.']\n",
      "['Skifteren passer til en 22,2 mm diameter flat styreende.']\n",
      "['Trykk og slipp for å avslutte sammenkoblingsøkten.']\n",
      "['Smør den indre overflaten av luftbeholderen med en liten mengde RockShox suspensjonsvæske.']\n",
      "['Perlen vil generelt ha en firkantet form i stedet for den avrundede form som vanligvis finnes på indre rørsystemer.']\n",
      "['Monter sykkelen i et reparasjonsstativ for å avlaste ethvert trykk på støtet fra sykkelens vekt.']\n",
      "['Inne i freehub mekanismen vil være kulelager og en clutch system, vanligvis skralle tenner og pawls.']\n",
      "['Når hjulet spinner, er det et radialt avvik der en del av kanten ser ut til å bevege seg innover, eller mot navet.']\n",
      "['Venstre tråder skråner opp til venstre, mens høyre tråder skråner opp til høyre, som sett nedenfor.']\n",
      "['Hvis en arm er for nær felgen, stram den sidesentrerende skruen for å hjelpe til med å trekke puten bort fra felgen.']\n",
      "['Den bevegelige puten bøyer rotoren mot den faste puten når bremsen betjenes.']\n",
      "['Oppsettet av hjulet på rammen kan virke uvanlig.']\n",
      "['Bruk dette punktet på felgen som en konstant referanse når du sjekker hengeren.']\n",
      "['Dette oppnås med to J-bøyde eiker med standard slissede nipler, som fungerer som målestenger.']\n",
      "['Bremsehuset og bremsetråden er de samme som med felgkaliperbremser.']\n",
      "['Bakre støt er tilgjengelig i ulike design.']\n",
      "['Vri høyre pedalkropp med klokken mens du holder låseringen.']\n",
      "['Du må kanskje gå gjennom drivverket trinn for trinn, del for del for å eliminere potensielle problemer.']\n",
      "['Trykk passer bunn brakett systemer bruke en ramme skall med en jevn boring, uten noen tråder.']\n",
      "['Ferrules holder huset inneholdt og hindrer det i å deformere eller grave inn i rammekabelstopper og andre sykkelkomponenter.']\n",
      "['Hvis du jobber på sykkelen i et reparasjonsstativ, bruk en annen tåstropp eller glidelås for å holde gaffelen på plass.']\n",
      "['La sprøyterørklemmer være åpne under lagring.']\n",
      "['Se etter og korrigere eventuelle sidefeil etter justering av parabolen.']\n",
      "['Bare la ringen være alene etter riktig justering mot lageret.']\n",
      "['Kraner som brukes med en løs bolt, vil resultere i bevegelse og slitasje mellom stålspindelen og det kvadratiske hullet i sveiven.']\n",
      "['For radial truing, spiller det ingen rolle om du betaler oppmerksomhet til venstre eller høyre kant av felgen sidevegg.']\n",
      "['Det er vanlig å finne en annen justeringsskrue på girkassen kalt B-skruen.']\n",
      "['Det er best å trykke én kopp om gangen ved hjelp av en hodetelefonpresse (figur 2).']\n",
      "['Dette gjør det mulig for armene å bevege seg til felgen for justering av puten uten å bekjempe fjærspenningen.']\n",
      "['Sørg for at kilden til støyen kommer fra kjeden begynner å treffe den neste innenbords tannhjul, deretter sakte slå fatet adjuster med klokken til støyen går bort.']\n",
      "['Dette er hydraulisk skivebremsjustering, og uansett merke eller modell vil denne artikkelen hjelpe deg med å bli kvitt den irriterende gni.']\n",
      "['Et typisk ekspansjonspluggsystem består av en ekspanderbar hylse.']\n",
      "['Dreiemoment spindelen bindemiddel bolt og styret bindemiddel bolt til produsentens spesifikasjoner.']\n",
      "['To nagler legges til dette (en tomme) for stedet å kutte kjeden.']\n",
      "['Skriv datoen for målingen direkte på felgen.']\n",
      "['Finn nærmeste nagle hvor de to kjedeendene kunne bli sammenføyd.']\n",
      "['Prøv å kjenne tallene dine, men disse kan bare skrives ned når det er nødvendig.']\n",
      "['Start fra at eiker flens hull, telle ut eiker det vil krysse på vei til felgen.']\n",
      "['Kjettinger tar mye misbruk, overfører kraften til bakhjulet, og de varer ikke for alltid.']\n",
      "['Denne prosessen vil være lik med andre former for tråd prep også.']\n",
      "['Avid hydrauliske skivebremsekalipere bruker en DOT 4 eller DOT 5.1 væsker.']\n",
      "['Det anbefales å stramme trinnvis i et kryssmønster for å fordele trykket likt.']\n",
      "['Ofte har eiker samme diameter for hele sin lengde.']\n",
      "['Hvis sykkelen har vært opp ned, la den sitte flere minutter før bruk, og test spakene ved å trekke med kraft.']\n",
      "['Den mest nøyaktige og presise måten å måle talespenning på er med et ekert tensiometer som Park Tool TM-1.']\n",
      "['Klipp innlegget nær rammen.']\n",
      "['På endene av huset er ferrules, eller endehetter.']\n",
      "['Bruk sentreringsskruen på siden av kaliperen for å endre fjærspenningen.']\n",
      "['Nå, måle fra midten av høyre flens til ansiktet av høyre side locknut.']\n",
      "['For å starte, null ut de talte brystvortene.']\n",
      "['Sett den lille enden av verktøyet gjennom bunnbraketten.']\n",
      "['Trekk kjetting tettsittende for å finne ut hvilken lenke som skal kuttes.']\n",
      "['Sett en justerbar skiftenøkkel på broen og en skiftenøkkel på ryggmutteren.']\n",
      "['Husk å bøye ekene ved flensen når du har fullført denne siden.']\n"
     ]
    }
   ],
   "source": [
    "df['initial_translation'] = df['en'].apply(lambda x: translator_initial(x) )"
   ],
   "metadata": {
    "collapsed": false
   }
  },
  {
   "cell_type": "code",
   "execution_count": 9,
   "outputs": [
    {
     "data": {
      "text/plain": "                                                  en  \\\n0  This is because the right side is displaced fo...   \n1  Add headset spacers under the upper plate as n...   \n2  Repeat impacting the BBT-30.4 driver until one...   \n3  Impacts to the side of the rim from falling do...   \n4  Check the dish reference on both sides, and re...   \n\n                                                  no  \\\n0  Dette skyldes at høyre side forskyves fremover...   \n1  Legg styrelager spacere under den øvre platen ...   \n2  Fortsett å bruk BBT-30.4 til en lagerskålene e...   \n3  Påvirkning på siden av felgen fra fall eller k...   \n4  Kontroller sentreringsreferansen på begge side...   \n\n                                 initial_translation  \n0  Dette skyldes at den høyre siden er forskjøvet...  \n1  Legg hodesettet avstandsstykker under den øvre...  \n2  Gjenta å påvirke BBT-30.4 driveren til en lage...  \n3  Virkninger på siden av felgen fra å falle ned ...  \n4  Kontroller tallerkenreferansen på begge sider,...  ",
      "text/html": "<div>\n<style scoped>\n    .dataframe tbody tr th:only-of-type {\n        vertical-align: middle;\n    }\n\n    .dataframe tbody tr th {\n        vertical-align: top;\n    }\n\n    .dataframe thead th {\n        text-align: right;\n    }\n</style>\n<table border=\"1\" class=\"dataframe\">\n  <thead>\n    <tr style=\"text-align: right;\">\n      <th></th>\n      <th>en</th>\n      <th>no</th>\n      <th>initial_translation</th>\n    </tr>\n  </thead>\n  <tbody>\n    <tr>\n      <th>0</th>\n      <td>This is because the right side is displaced fo...</td>\n      <td>Dette skyldes at høyre side forskyves fremover...</td>\n      <td>Dette skyldes at den høyre siden er forskjøvet...</td>\n    </tr>\n    <tr>\n      <th>1</th>\n      <td>Add headset spacers under the upper plate as n...</td>\n      <td>Legg styrelager spacere under den øvre platen ...</td>\n      <td>Legg hodesettet avstandsstykker under den øvre...</td>\n    </tr>\n    <tr>\n      <th>2</th>\n      <td>Repeat impacting the BBT-30.4 driver until one...</td>\n      <td>Fortsett å bruk BBT-30.4 til en lagerskålene e...</td>\n      <td>Gjenta å påvirke BBT-30.4 driveren til en lage...</td>\n    </tr>\n    <tr>\n      <th>3</th>\n      <td>Impacts to the side of the rim from falling do...</td>\n      <td>Påvirkning på siden av felgen fra fall eller k...</td>\n      <td>Virkninger på siden av felgen fra å falle ned ...</td>\n    </tr>\n    <tr>\n      <th>4</th>\n      <td>Check the dish reference on both sides, and re...</td>\n      <td>Kontroller sentreringsreferansen på begge side...</td>\n      <td>Kontroller tallerkenreferansen på begge sider,...</td>\n    </tr>\n  </tbody>\n</table>\n</div>"
     },
     "execution_count": 9,
     "metadata": {},
     "output_type": "execute_result"
    }
   ],
   "source": [
    "df.head()"
   ],
   "metadata": {
    "collapsed": false
   }
  },
  {
   "cell_type": "code",
   "execution_count": 10,
   "outputs": [
    {
     "name": "stderr",
     "output_type": "stream",
     "text": [
      "C:\\Users\\danie\\PycharmProjects\\Bicycle_translator\\bike_env\\lib\\site-packages\\transformers\\generation\\utils.py:1387: UserWarning: Neither `max_length` nor `max_new_tokens` has been set, `max_length` will default to 512 (`self.config.max_length`). Controlling `max_length` via the config is deprecated and `max_length` will be removed from the config in v5 of Transformers -- we recommend using `max_new_tokens` to control the maximum length of the generation.\n",
      "  warnings.warn(\n"
     ]
    },
    {
     "name": "stdout",
     "output_type": "stream",
     "text": [
      "['Dette skyldes at den høyre siden er forskjøvet fremover av girøret.']\n",
      "['Legg styrelager spacere under den øvre platen om nødvendig.']\n",
      "['Gjennsett slagene på BBT-30,4 driveren til en lagerskål er helt tom.']\n",
      "['Virkninger på siden av felgen fra å falle ned eller krasje kan også forårsake skade.']\n",
      "['Sjekk sentreringsreferansen på begge sider, og gjenta om nødvendig til hjulet viser et gap på 1 mm eller mindre ved navet.']\n",
      "['Det anbefales også å bruke beskyttelseshansker som MG-2, og bruke øyebeskyttelse.']\n",
      "['Det er en vane for mange mekanikere å sette gjengelåsingen på den utvendige gjengen.']\n",
      "['Konstruksjonen er en variant av cantilever brems.']\n",
      "['Plukk opp forsiden av sykkelen, og forsiktig sving styret frem og tilbake fra sentrum.']\n",
      "['Avid skivebremser bruker et kulelager system for monteringsbolter.']\n",
      "['Høyre bilde er den ekstreme innovergående bevegelse av cleats, eller mer duck fot.']\n",
      "['Bruk en kjede rengjøringsmiddel som Park Tool CM-5.3 Cyclone Chain Scrubber.']\n",
      "['Det neste målet er å jevnt trekke opp spenningen i hjulet.']\n",
      "['Det vil være nødvendig å veldig nøye bruke et pirkeverktøy for å fjerne den indre foringen.']\n",
      "['Hvis den ikke går inn, er ikke kjedet ditt 0,5 prosent slitt ennå.']\n",
      "['Strammingen på kjedet bør settes slik at du kan trekke den ca 1 unna oppreist når vognen er ca 5 fot fra bakken.']\n",
      "['Eksponert eller hardt lim ville ha en tendens til å knuses når det treffes i stedet for å gi etter under et sjokk.']\n",
      "['Sykkelen som er illustrert her er 9,8 mm utenfor, noe som gjør det 4,9 mm til midten.']\n",
      "['Det andre tallet er mengden av mulig kompresjon.']\n",
      "['Når du har riktig eiker for felg og nav, er du klar til å snøre og bygge hjulet se How to Build a Wheel for hele prosessen.']\n",
      "['Smøring av nippel gjenger bør gjøres rutinemessig fordi korrosjon og rust i disse gjengene vil gjøre hjulet un-true-able.']\n",
      "['Girshiftere har noen ganger muligheter for å styre strømpen foran, bak eller ut av siden på hendelen.']\n",
      "['Eventuelle gjenværende maling indikerer et lavere område enn et nytt kutt.']\n",
      "['DAG-2.2 og DAG-3 (samt nyere DAG-2 modeller) kommer med 2 O-ringer for glidebryteren.']\n",
      "['Hvis armene ikke åpnes helt når de klemmes forsiktig, kan justeringen være for stram.']\n",
      "['For ikke-klebende taper, overlapper slik at omtrent halvparten av tapen er på styret.']\n",
      "['En bøyd tann vil lage støy og noen ganger fange kjedet.']\n",
      "['Gjør dette for resten av eikene når du beveger deg fremover også.']\n",
      "['Etter å ha verifisert at hjulet er riktig satt, er det greit å begynne å rette bremseskiven, men det er alltid godt å vite andre ting som fører til at bremseskiven gnisser:']\n",
      "['Det er mange forskjellige dekk- og hjul størrelser tilgjengelig.']\n",
      "['Sikre luften kan øyet i de myke kjevene til en skrustikke, ( AV-5 fungerer bra) og klemme mellom hullene i kjevene.']\n",
      "['Denne artikkelen vil gjennomgå fjerning og installasjon av kassett på sykler av girtype.']\n",
      "['Mange styrelager holder skålene på plass ved hjelp av en press-fit.']\n",
      "['Denne lufteprosedyren vil fungere på SRAM drop bar og flate bremser som har Bleeding Edge.']\n",
      "['For presisjons sentreringsarbeid er TS-2, TS-2.2, TS-2.3 og TS-4.2 ment å brukes med et sentreringsverktøy, for eksempel Park Tool WAG-4 eller WAG-5.']\n",
      "['Når det gjelder en karbon styrerør, er det viktig å ha styrerøret helt gjennom stemmet, for å redusere stresset på enden av styrerøret.']\n",
      "['Trinnene kan fjernes for rengjøring.']\n",
      "['Den første metoden for å kontrollere kjede slitasje er å ganske enkelt løfte kjedet av det fremre drevet.']\n",
      "['Praxis modeller kan bruke en intern hylse som må fjernes for utskifting.']\n",
      "['Når du retter hjul, begynner du vanligvis først ved å korrigere den sideveis rettheten.']\n",
      "['Fordi dekk kuler kan være en tett passform i felgen, er det vanligvis nødvendig å dekk spaker å vri dekk kanten opp og over felg sideveggen.']\n",
      "['Målt i millimeter, er OD av pedal vanligvis 14,2 mm.']\n",
      "['Klem spaken med kraft for å bosette seg i wiren og strømpen og for å teste sikkerheten til wiren klembolt.']\n",
      "['Kuttingen kan beveges under sålens fremover, bakover, roteres og skyves fra venstre til høyre (figur 7).']\n",
      "['Hvis kjedet ikke girer til det minste tannhjulet, blir det sannsynligvis stoppet enten av stoppeskruen eller wire innstillingen.']\n",
      "['Dette er spesielt tilfelle for firkantede akslinger fordi den nøyaktige passformen inne i firkantfestet til krankarm varierer mellom merker og til og med mellom armer av samme modell.']\n",
      "['Hvis girhendelen fram har flere klikk, for eksempel noen girshiftere med vrigrep, gires den på samme måte som friksjonshendler.']\n",
      "['Girshifteren passer en 22,2 mm diameter flat styre ende.']\n",
      "['Trykk og slipp for å avslutte parringsøkten.']\n",
      "['Smør den indre overflaten av luftkammeret med en liten mengde RockShox suspensjonsvæske.']\n",
      "['Kanten vil generelt ha en kvadratisk form i stedet for den avrundede form som vanligvis finnes på slange systemer.']\n",
      "['Monter sykkelen i et reparasjonsstativ for å lette presset på støtet fra sykkelens vekt.']\n",
      "['Innvendig vil boss mekanismen være lager og et clutch system, vanligvis splinter og paler.']\n",
      "['Når hjulet spinner, er det et radialt avvik hvor en del av felgen ser ut til å bevege seg innover, eller mot navet.']\n",
      "['Venstregjenger skråner opp til venstre, mens høyregjenger skråner opp til høyre, som vist nedenfor.']\n",
      "['Hvis en arm er for nær felgen, stram den side sentreringsskruen for å hjelpe til med å trekke bremseklossen bort fra felgen.']\n",
      "['Den bevegelige bremseklossen bøyer bremseskiven mot bremseklossen når den bremses.']\n",
      "['Settet av hjulet på rammen kan virke uvanlig.']\n",
      "['Bruk dette punktet på felgen som en konstant referanse når du sjekker girøret.']\n",
      "['Dette oppnås med to J - bøy eiker med standard slissede nippler, som virker som målestenger.']\n",
      "['Bremsestrømpen og bremsewiren er de samme som med felgkalipperbremser.']\n",
      "['Bakre støt er tilgjengelig i forskjellige design.']\n",
      "['Vri høyre pedal kroppen med klokken mens du holder låseringen.']\n",
      "['Du må kanskje fortsette gjennom drivverket trinn for trinn, del for del for å eliminere potensielle problemer.']\n",
      "['Press fit kranklager systemer bruker en ramme skallet med en glatt boring, uten gjenger.']\n",
      "['Ferrules holder strømpe og hindrer den i å deformere eller grave inn i rammestag og andre sykkel komponenter.']\n",
      "['Hvis du jobber på sykkelen i et reparasjonsstativ, bruk en annen tå stropp eller strips for å holde gaffelen på plass.']\n",
      "['La sprøyterøret være åpent under lagring.']\n",
      "['Se etter og korrigere eventuelle sidefeil etter justering av sentreringen.']\n",
      "['Bare la ringen være i fred etter riktig justering mot lageret.']\n",
      "['Krank brukt med en løs bolt vil resultere i bevegelse og slitasje mellom stål aksling og kvadratisk hull i krankarm.']\n",
      "['For radial retting, spiller det ingen rolle om du betaler oppmerksomhet til venstre eller høyre kant av felg sideveggen.']\n",
      "['Det er vanlig å finne en annen justeringsskrue på giret kalt B-skruen.']\n",
      "['Det er best å trykke en skål om gangen ved hjelp av en styrelager presse (figur 2).']\n",
      "['Dette gjør at armene kan bevege seg til felgen for bremsekloss justering uten å strekkes.']\n",
      "['Kontroller at kilden til støyen kommer fra kjedet begynner å treffe den neste innsiden tannhjul, og deretter sakte vri justeringskruen med klokken til støyen går bort.']\n",
      "['Dette er hydraulisk skivebrems justering, og uavhengig av merke eller modell vil denne artikkelen hjelpe deg å bli kvitt den irriterende gniingen.']\n",
      "['Et typisk ekspansjonspluggsystem består av en ekspanderbar hylse.']\n",
      "['Vri festebolten til stemmet og festebolten til styret til produsentens spesifikasjoner.']\n",
      "['To nagler legges til dette (en tomme) for stedet å kutte kjedet.']\n",
      "['Skriv datoen for målingen direkte på felgen.']\n",
      "['Finn den nærmeste naglen hvor de to kjede endene kan bli koblet sammen.']\n",
      "['Prøv å kjenne tallene dine, men disse kan ganske enkelt skrives ned når det er nødvendig.']\n",
      "['Start fra det eike flens hullet, telle ut eikene det vil krysse på vei til felgen.']\n",
      "['Kjedet tar mye misbruk, overfører kraften til bakhjulet, og de varer ikke for alltid.']\n",
      "['Denne prosessen vil være lik med andre former for gjenge prep også.']\n",
      "['Avid hydrauliske skivebrems kalippere bruker en DOT 4 eller DOT 5.1 væske.']\n",
      "['Det anbefales å stramme inkrementelt i et kryssmønster for å fordele trykket likt.']\n",
      "['Ofte har eiker samme diameter for hele sin lengde.']\n",
      "['Hvis sykkelen har vært opp ned, la den sitte flere minutter før bruk, og test hendlene ved å trekke med kraft.']\n",
      "['Den mest nøyaktige og presise måten å måle eikespenn på er med et eikespenn måler som Park Tool TM-1.']\n",
      "['Klipp innlegget nær rammen.']\n",
      "['På endene av strømpen er det endehylse eller endehylse.']\n",
      "['Bruk sentreringsskruen på siden av kalipperen for å endre fjærspenning.']\n",
      "['Nå måles fra midten av høyre flens til overflaten av høyre side låsering.']\n",
      "['For å starte, null ut eike nipplene.']\n",
      "['Sett den lille enden av verktøyet gjennom kranklager.']\n",
      "['Trekk kjedet stramt for å finne ut hvilken lenke du skal kutte.']\n",
      "['Sett en justerbar skiftenøkkel på broen og en skiftenøkkel på mutteren.']\n",
      "['Husk å bøy eiker ved flensen når du har fullført denne siden.']\n"
     ]
    }
   ],
   "source": [
    "df['finetuned_translation'] = df['en'].apply(lambda x:  translator_finetuned(x) )"
   ],
   "metadata": {
    "collapsed": false
   }
  },
  {
   "cell_type": "code",
   "execution_count": 11,
   "outputs": [
    {
     "data": {
      "text/plain": "                                                  en  \\\n0  This is because the right side is displaced fo...   \n1  Add headset spacers under the upper plate as n...   \n2  Repeat impacting the BBT-30.4 driver until one...   \n3  Impacts to the side of the rim from falling do...   \n4  Check the dish reference on both sides, and re...   \n\n                                                  no  \\\n0  Dette skyldes at høyre side forskyves fremover...   \n1  Legg styrelager spacere under den øvre platen ...   \n2  Fortsett å bruk BBT-30.4 til en lagerskålene e...   \n3  Påvirkning på siden av felgen fra fall eller k...   \n4  Kontroller sentreringsreferansen på begge side...   \n\n                                 initial_translation  \\\n0  Dette skyldes at den høyre siden er forskjøvet...   \n1  Legg hodesettet avstandsstykker under den øvre...   \n2  Gjenta å påvirke BBT-30.4 driveren til en lage...   \n3  Virkninger på siden av felgen fra å falle ned ...   \n4  Kontroller tallerkenreferansen på begge sider,...   \n\n                               finetuned_translation  \n0  Dette skyldes at den høyre siden er forskjøvet...  \n1  Legg styrelager spacere under den øvre platen ...  \n2  Gjennsett slagene på BBT-30,4 driveren til en ...  \n3  Virkninger på siden av felgen fra å falle ned ...  \n4  Sjekk sentreringsreferansen på begge sider, og...  ",
      "text/html": "<div>\n<style scoped>\n    .dataframe tbody tr th:only-of-type {\n        vertical-align: middle;\n    }\n\n    .dataframe tbody tr th {\n        vertical-align: top;\n    }\n\n    .dataframe thead th {\n        text-align: right;\n    }\n</style>\n<table border=\"1\" class=\"dataframe\">\n  <thead>\n    <tr style=\"text-align: right;\">\n      <th></th>\n      <th>en</th>\n      <th>no</th>\n      <th>initial_translation</th>\n      <th>finetuned_translation</th>\n    </tr>\n  </thead>\n  <tbody>\n    <tr>\n      <th>0</th>\n      <td>This is because the right side is displaced fo...</td>\n      <td>Dette skyldes at høyre side forskyves fremover...</td>\n      <td>Dette skyldes at den høyre siden er forskjøvet...</td>\n      <td>Dette skyldes at den høyre siden er forskjøvet...</td>\n    </tr>\n    <tr>\n      <th>1</th>\n      <td>Add headset spacers under the upper plate as n...</td>\n      <td>Legg styrelager spacere under den øvre platen ...</td>\n      <td>Legg hodesettet avstandsstykker under den øvre...</td>\n      <td>Legg styrelager spacere under den øvre platen ...</td>\n    </tr>\n    <tr>\n      <th>2</th>\n      <td>Repeat impacting the BBT-30.4 driver until one...</td>\n      <td>Fortsett å bruk BBT-30.4 til en lagerskålene e...</td>\n      <td>Gjenta å påvirke BBT-30.4 driveren til en lage...</td>\n      <td>Gjennsett slagene på BBT-30,4 driveren til en ...</td>\n    </tr>\n    <tr>\n      <th>3</th>\n      <td>Impacts to the side of the rim from falling do...</td>\n      <td>Påvirkning på siden av felgen fra fall eller k...</td>\n      <td>Virkninger på siden av felgen fra å falle ned ...</td>\n      <td>Virkninger på siden av felgen fra å falle ned ...</td>\n    </tr>\n    <tr>\n      <th>4</th>\n      <td>Check the dish reference on both sides, and re...</td>\n      <td>Kontroller sentreringsreferansen på begge side...</td>\n      <td>Kontroller tallerkenreferansen på begge sider,...</td>\n      <td>Sjekk sentreringsreferansen på begge sider, og...</td>\n    </tr>\n  </tbody>\n</table>\n</div>"
     },
     "execution_count": 11,
     "metadata": {},
     "output_type": "execute_result"
    }
   ],
   "source": [
    "df.head()"
   ],
   "metadata": {
    "collapsed": false
   }
  },
  {
   "cell_type": "code",
   "execution_count": 8,
   "outputs": [],
   "source": [
    "\n",
    "def compute_blue(pred,ref):\n",
    "\n",
    "    sacrebleu = metric\n",
    "\n",
    "    results = sacrebleu.compute(predictions=[[pred]], references=[[ref]])\n",
    "\n",
    "    print(round(results[\"score\"],1))\n",
    "    return round(results[\"score\"],1)\n",
    "\n"
   ],
   "metadata": {
    "collapsed": false
   }
  },
  {
   "cell_type": "code",
   "execution_count": 13,
   "outputs": [
    {
     "name": "stdout",
     "output_type": "stream",
     "text": [
      "8.2\n",
      "47.0\n",
      "8.5\n",
      "38.8\n",
      "52.8\n",
      "72.2\n",
      "14.4\n",
      "27.8\n",
      "50.9\n",
      "8.1\n",
      "43.9\n",
      "67.7\n",
      "49.2\n",
      "31.6\n",
      "52.9\n",
      "64.4\n",
      "84.3\n",
      "52.8\n",
      "43.4\n",
      "26.6\n",
      "46.5\n",
      "21.5\n",
      "52.0\n",
      "61.7\n",
      "61.7\n",
      "12.5\n",
      "31.5\n",
      "22.2\n",
      "44.8\n",
      "15.9\n",
      "55.0\n",
      "12.4\n",
      "22.4\n",
      "36.7\n",
      "71.3\n",
      "34.2\n",
      "44.6\n",
      "36.7\n",
      "53.1\n",
      "56.3\n",
      "15.4\n",
      "28.0\n",
      "26.2\n",
      "60.7\n",
      "11.7\n",
      "56.8\n",
      "12.5\n",
      "13.1\n",
      "57.1\n",
      "39.4\n",
      "69.1\n",
      "61.7\n",
      "17.0\n",
      "66.2\n",
      "62.6\n",
      "74.1\n",
      "10.8\n",
      "23.5\n",
      "62.4\n",
      "44.5\n",
      "4.1\n",
      "46.2\n",
      "48.6\n",
      "80.4\n",
      "4.6\n",
      "10.1\n",
      "47.5\n",
      "39.3\n",
      "26.6\n",
      "53.0\n",
      "41.9\n",
      "34.9\n",
      "53.1\n",
      "43.3\n",
      "48.8\n",
      "42.3\n",
      "25.6\n",
      "61.3\n",
      "3.5\n",
      "64.7\n",
      "57.1\n",
      "44.5\n",
      "63.8\n",
      "40.1\n",
      "23.6\n",
      "48.4\n",
      "42.6\n",
      "74.0\n",
      "64.8\n",
      "49.3\n",
      "46.2\n",
      "20.6\n",
      "7.3\n",
      "67.7\n",
      "44.5\n",
      "30.3\n",
      "43.4\n",
      "39.7\n",
      "56.6\n",
      "55.5\n"
     ]
    }
   ],
   "source": [
    "df['initial_translation_bleu'] = df[['initial_translation','no']].apply(lambda x: compute_blue(*x), axis=1)"
   ],
   "metadata": {
    "collapsed": false
   }
  },
  {
   "cell_type": "code",
   "execution_count": 14,
   "outputs": [
    {
     "data": {
      "text/plain": "                                                  en  \\\n0  This is because the right side is displaced fo...   \n1  Add headset spacers under the upper plate as n...   \n2  Repeat impacting the BBT-30.4 driver until one...   \n3  Impacts to the side of the rim from falling do...   \n4  Check the dish reference on both sides, and re...   \n\n                                                  no  \\\n0  Dette skyldes at høyre side forskyves fremover...   \n1  Legg styrelager spacere under den øvre platen ...   \n2  Fortsett å bruk BBT-30.4 til en lagerskålene e...   \n3  Påvirkning på siden av felgen fra fall eller k...   \n4  Kontroller sentreringsreferansen på begge side...   \n\n                                 initial_translation  \\\n0  Dette skyldes at den høyre siden er forskjøvet...   \n1  Legg hodesettet avstandsstykker under den øvre...   \n2  Gjenta å påvirke BBT-30.4 driveren til en lage...   \n3  Virkninger på siden av felgen fra å falle ned ...   \n4  Kontroller tallerkenreferansen på begge sider,...   \n\n                               finetuned_translation  initial_translation_bleu  \n0  Dette skyldes at den høyre siden er forskjøvet...                       8.2  \n1  Legg styrelager spacere under den øvre platen ...                      47.0  \n2  Gjennsett slagene på BBT-30,4 driveren til en ...                       8.5  \n3  Virkninger på siden av felgen fra å falle ned ...                      38.8  \n4  Sjekk sentreringsreferansen på begge sider, og...                      52.8  ",
      "text/html": "<div>\n<style scoped>\n    .dataframe tbody tr th:only-of-type {\n        vertical-align: middle;\n    }\n\n    .dataframe tbody tr th {\n        vertical-align: top;\n    }\n\n    .dataframe thead th {\n        text-align: right;\n    }\n</style>\n<table border=\"1\" class=\"dataframe\">\n  <thead>\n    <tr style=\"text-align: right;\">\n      <th></th>\n      <th>en</th>\n      <th>no</th>\n      <th>initial_translation</th>\n      <th>finetuned_translation</th>\n      <th>initial_translation_bleu</th>\n    </tr>\n  </thead>\n  <tbody>\n    <tr>\n      <th>0</th>\n      <td>This is because the right side is displaced fo...</td>\n      <td>Dette skyldes at høyre side forskyves fremover...</td>\n      <td>Dette skyldes at den høyre siden er forskjøvet...</td>\n      <td>Dette skyldes at den høyre siden er forskjøvet...</td>\n      <td>8.2</td>\n    </tr>\n    <tr>\n      <th>1</th>\n      <td>Add headset spacers under the upper plate as n...</td>\n      <td>Legg styrelager spacere under den øvre platen ...</td>\n      <td>Legg hodesettet avstandsstykker under den øvre...</td>\n      <td>Legg styrelager spacere under den øvre platen ...</td>\n      <td>47.0</td>\n    </tr>\n    <tr>\n      <th>2</th>\n      <td>Repeat impacting the BBT-30.4 driver until one...</td>\n      <td>Fortsett å bruk BBT-30.4 til en lagerskålene e...</td>\n      <td>Gjenta å påvirke BBT-30.4 driveren til en lage...</td>\n      <td>Gjennsett slagene på BBT-30,4 driveren til en ...</td>\n      <td>8.5</td>\n    </tr>\n    <tr>\n      <th>3</th>\n      <td>Impacts to the side of the rim from falling do...</td>\n      <td>Påvirkning på siden av felgen fra fall eller k...</td>\n      <td>Virkninger på siden av felgen fra å falle ned ...</td>\n      <td>Virkninger på siden av felgen fra å falle ned ...</td>\n      <td>38.8</td>\n    </tr>\n    <tr>\n      <th>4</th>\n      <td>Check the dish reference on both sides, and re...</td>\n      <td>Kontroller sentreringsreferansen på begge side...</td>\n      <td>Kontroller tallerkenreferansen på begge sider,...</td>\n      <td>Sjekk sentreringsreferansen på begge sider, og...</td>\n      <td>52.8</td>\n    </tr>\n  </tbody>\n</table>\n</div>"
     },
     "execution_count": 14,
     "metadata": {},
     "output_type": "execute_result"
    }
   ],
   "source": [
    "df.head()"
   ],
   "metadata": {
    "collapsed": false
   }
  },
  {
   "cell_type": "code",
   "execution_count": 15,
   "outputs": [
    {
     "name": "stdout",
     "output_type": "stream",
     "text": [
      "8.2\n",
      "39.6\n",
      "7.9\n",
      "38.8\n",
      "57.2\n",
      "72.2\n",
      "14.9\n",
      "57.1\n",
      "77.0\n",
      "10.1\n",
      "20.1\n",
      "49.0\n",
      "49.2\n",
      "58.3\n",
      "29.8\n",
      "56.1\n",
      "53.5\n",
      "66.5\n",
      "61.3\n",
      "63.7\n",
      "71.7\n",
      "17.9\n",
      "52.0\n",
      "61.7\n",
      "77.0\n",
      "43.5\n",
      "70.1\n",
      "53.1\n",
      "56.0\n",
      "33.3\n",
      "62.2\n",
      "22.0\n",
      "8.2\n",
      "44.9\n",
      "78.1\n",
      "21.8\n",
      "44.6\n",
      "27.2\n",
      "72.2\n",
      "52.9\n",
      "26.7\n",
      "12.9\n",
      "30.1\n",
      "66.0\n",
      "45.6\n",
      "46.9\n",
      "11.2\n",
      "13.7\n",
      "36.7\n",
      "59.7\n",
      "42.0\n",
      "41.2\n",
      "40.3\n",
      "85.4\n",
      "50.2\n",
      "70.1\n",
      "29.9\n",
      "23.5\n",
      "74.0\n",
      "39.9\n",
      "4.1\n",
      "17.5\n",
      "47.9\n",
      "69.0\n",
      "26.1\n",
      "26.8\n",
      "57.6\n",
      "16.8\n",
      "44.5\n",
      "24.6\n",
      "49.1\n",
      "39.6\n",
      "72.2\n",
      "69.1\n",
      "30.4\n",
      "46.6\n",
      "51.3\n",
      "61.3\n",
      "11.6\n",
      "75.6\n",
      "57.1\n",
      "24.1\n",
      "79.4\n",
      "36.8\n",
      "23.6\n",
      "55.5\n",
      "39.4\n",
      "56.4\n",
      "64.8\n",
      "59.0\n",
      "69.1\n",
      "20.6\n",
      "7.3\n",
      "26.6\n",
      "47.4\n",
      "61.3\n",
      "43.4\n",
      "59.7\n",
      "70.1\n",
      "59.7\n"
     ]
    }
   ],
   "source": [
    "df['finetuned_translation_bleu'] = df[['finetuned_translation','no']].apply(lambda x: compute_blue(*x), axis=1)"
   ],
   "metadata": {
    "collapsed": false
   }
  },
  {
   "cell_type": "code",
   "execution_count": 16,
   "outputs": [
    {
     "data": {
      "text/plain": "                                                   en  \\\n0   This is because the right side is displaced fo...   \n1   Add headset spacers under the upper plate as n...   \n2   Repeat impacting the BBT-30.4 driver until one...   \n3   Impacts to the side of the rim from falling do...   \n4   Check the dish reference on both sides, and re...   \n..                                                ...   \n95              To start, zero out the spoke nipples.   \n96  Insert the small end of the tool through the b...   \n97    Pull chain snug to determine which link to cut.   \n98  Put an adjustable wrench on the bridge and a w...   \n99  Remember to flex the spokes at the flange when...   \n\n                                                   no  \\\n0   Dette skyldes at høyre side forskyves fremover...   \n1   Legg styrelager spacere under den øvre platen ...   \n2   Fortsett å bruk BBT-30.4 til en lagerskålene e...   \n3   Påvirkning på siden av felgen fra fall eller k...   \n4   Kontroller sentreringsreferansen på begge side...   \n..                                                ...   \n95               For å starte, null ut eike nipplene.   \n96  Sett den lille enden av verktøyet gjennom kran...   \n97  Trekk kjedet tettsittende for å finne ut hvilk...   \n98  Sett en justerbar skiftenøkkel på broen og en ...   \n99  Husk å bøye eiker ved flensen når du har fullf...   \n\n                                  initial_translation  \\\n0   Dette skyldes at den høyre siden er forskjøvet...   \n1   Legg hodesettet avstandsstykker under den øvre...   \n2   Gjenta å påvirke BBT-30.4 driveren til en lage...   \n3   Virkninger på siden av felgen fra å falle ned ...   \n4   Kontroller tallerkenreferansen på begge sider,...   \n..                                                ...   \n95       For å starte, null ut de talte brystvortene.   \n96  Sett den lille enden av verktøyet gjennom bunn...   \n97  Trekk kjetting tettsittende for å finne ut hvi...   \n98  Sett en justerbar skiftenøkkel på broen og en ...   \n99  Husk å bøye ekene ved flensen når du har fullf...   \n\n                                finetuned_translation  \\\n0   Dette skyldes at den høyre siden er forskjøvet...   \n1   Legg styrelager spacere under den øvre platen ...   \n2   Gjennsett slagene på BBT-30,4 driveren til en ...   \n3   Virkninger på siden av felgen fra å falle ned ...   \n4   Sjekk sentreringsreferansen på begge sider, og...   \n..                                                ...   \n95               For å starte, null ut eike nipplene.   \n96  Sett den lille enden av verktøyet gjennom kran...   \n97  Trekk kjedet stramt for å finne ut hvilken len...   \n98  Sett en justerbar skiftenøkkel på broen og en ...   \n99  Husk å bøy eiker ved flensen når du har fullfø...   \n\n    initial_translation_bleu  finetuned_translation_bleu  \n0                        8.2                         8.2  \n1                       47.0                        39.6  \n2                        8.5                         7.9  \n3                       38.8                        38.8  \n4                       52.8                        57.2  \n..                       ...                         ...  \n95                      30.3                        61.3  \n96                      43.4                        43.4  \n97                      39.7                        59.7  \n98                      56.6                        70.1  \n99                      55.5                        59.7  \n\n[100 rows x 6 columns]",
      "text/html": "<div>\n<style scoped>\n    .dataframe tbody tr th:only-of-type {\n        vertical-align: middle;\n    }\n\n    .dataframe tbody tr th {\n        vertical-align: top;\n    }\n\n    .dataframe thead th {\n        text-align: right;\n    }\n</style>\n<table border=\"1\" class=\"dataframe\">\n  <thead>\n    <tr style=\"text-align: right;\">\n      <th></th>\n      <th>en</th>\n      <th>no</th>\n      <th>initial_translation</th>\n      <th>finetuned_translation</th>\n      <th>initial_translation_bleu</th>\n      <th>finetuned_translation_bleu</th>\n    </tr>\n  </thead>\n  <tbody>\n    <tr>\n      <th>0</th>\n      <td>This is because the right side is displaced fo...</td>\n      <td>Dette skyldes at høyre side forskyves fremover...</td>\n      <td>Dette skyldes at den høyre siden er forskjøvet...</td>\n      <td>Dette skyldes at den høyre siden er forskjøvet...</td>\n      <td>8.2</td>\n      <td>8.2</td>\n    </tr>\n    <tr>\n      <th>1</th>\n      <td>Add headset spacers under the upper plate as n...</td>\n      <td>Legg styrelager spacere under den øvre platen ...</td>\n      <td>Legg hodesettet avstandsstykker under den øvre...</td>\n      <td>Legg styrelager spacere under den øvre platen ...</td>\n      <td>47.0</td>\n      <td>39.6</td>\n    </tr>\n    <tr>\n      <th>2</th>\n      <td>Repeat impacting the BBT-30.4 driver until one...</td>\n      <td>Fortsett å bruk BBT-30.4 til en lagerskålene e...</td>\n      <td>Gjenta å påvirke BBT-30.4 driveren til en lage...</td>\n      <td>Gjennsett slagene på BBT-30,4 driveren til en ...</td>\n      <td>8.5</td>\n      <td>7.9</td>\n    </tr>\n    <tr>\n      <th>3</th>\n      <td>Impacts to the side of the rim from falling do...</td>\n      <td>Påvirkning på siden av felgen fra fall eller k...</td>\n      <td>Virkninger på siden av felgen fra å falle ned ...</td>\n      <td>Virkninger på siden av felgen fra å falle ned ...</td>\n      <td>38.8</td>\n      <td>38.8</td>\n    </tr>\n    <tr>\n      <th>4</th>\n      <td>Check the dish reference on both sides, and re...</td>\n      <td>Kontroller sentreringsreferansen på begge side...</td>\n      <td>Kontroller tallerkenreferansen på begge sider,...</td>\n      <td>Sjekk sentreringsreferansen på begge sider, og...</td>\n      <td>52.8</td>\n      <td>57.2</td>\n    </tr>\n    <tr>\n      <th>...</th>\n      <td>...</td>\n      <td>...</td>\n      <td>...</td>\n      <td>...</td>\n      <td>...</td>\n      <td>...</td>\n    </tr>\n    <tr>\n      <th>95</th>\n      <td>To start, zero out the spoke nipples.</td>\n      <td>For å starte, null ut eike nipplene.</td>\n      <td>For å starte, null ut de talte brystvortene.</td>\n      <td>For å starte, null ut eike nipplene.</td>\n      <td>30.3</td>\n      <td>61.3</td>\n    </tr>\n    <tr>\n      <th>96</th>\n      <td>Insert the small end of the tool through the b...</td>\n      <td>Sett den lille enden av verktøyet gjennom kran...</td>\n      <td>Sett den lille enden av verktøyet gjennom bunn...</td>\n      <td>Sett den lille enden av verktøyet gjennom kran...</td>\n      <td>43.4</td>\n      <td>43.4</td>\n    </tr>\n    <tr>\n      <th>97</th>\n      <td>Pull chain snug to determine which link to cut.</td>\n      <td>Trekk kjedet tettsittende for å finne ut hvilk...</td>\n      <td>Trekk kjetting tettsittende for å finne ut hvi...</td>\n      <td>Trekk kjedet stramt for å finne ut hvilken len...</td>\n      <td>39.7</td>\n      <td>59.7</td>\n    </tr>\n    <tr>\n      <th>98</th>\n      <td>Put an adjustable wrench on the bridge and a w...</td>\n      <td>Sett en justerbar skiftenøkkel på broen og en ...</td>\n      <td>Sett en justerbar skiftenøkkel på broen og en ...</td>\n      <td>Sett en justerbar skiftenøkkel på broen og en ...</td>\n      <td>56.6</td>\n      <td>70.1</td>\n    </tr>\n    <tr>\n      <th>99</th>\n      <td>Remember to flex the spokes at the flange when...</td>\n      <td>Husk å bøye eiker ved flensen når du har fullf...</td>\n      <td>Husk å bøye ekene ved flensen når du har fullf...</td>\n      <td>Husk å bøy eiker ved flensen når du har fullfø...</td>\n      <td>55.5</td>\n      <td>59.7</td>\n    </tr>\n  </tbody>\n</table>\n<p>100 rows × 6 columns</p>\n</div>"
     },
     "execution_count": 16,
     "metadata": {},
     "output_type": "execute_result"
    }
   ],
   "source": [
    "df"
   ],
   "metadata": {
    "collapsed": false
   }
  },
  {
   "cell_type": "code",
   "execution_count": 17,
   "outputs": [
    {
     "name": "stdout",
     "output_type": "stream",
     "text": [
      "45.099\n"
     ]
    }
   ],
   "source": [
    "print(df['finetuned_translation_bleu'].mean())"
   ],
   "metadata": {
    "collapsed": false
   }
  },
  {
   "cell_type": "code",
   "execution_count": 18,
   "outputs": [
    {
     "name": "stdout",
     "output_type": "stream",
     "text": [
      "41.511\n"
     ]
    }
   ],
   "source": [
    "print(df['initial_translation_bleu'].mean())"
   ],
   "metadata": {
    "collapsed": false
   }
  },
  {
   "cell_type": "code",
   "execution_count": 19,
   "outputs": [],
   "source": [
    "df.to_csv('evaluate_finetuned_translation.csv', encoding='latin1')"
   ],
   "metadata": {
    "collapsed": false
   }
  },
  {
   "cell_type": "markdown",
   "source": [
    "### Add manually collected google translate to the dataframe."
   ],
   "metadata": {
    "collapsed": false
   }
  },
  {
   "cell_type": "code",
   "execution_count": 20,
   "outputs": [
    {
     "data": {
      "text/plain": "                                                  en  \\\n0  This is because the right side is displaced fo...   \n1  Add headset spacers under the upper plate as n...   \n2  Repeat impacting the BBT-30.4 driver until one...   \n3  Impacts to the side of the rim from falling do...   \n4  Check the dish reference on both sides, and re...   \n\n                                                  no  \n0  Dette er fordi høyre side er forskjøvet fremov...  \n1  Legg til hodesettavstandsstykker under den øvr...  \n2  Gjenta støt på BBT-30.4-driveren til en lagers...  \n3  Støt på siden av felgen fra fall ned eller kra...  \n4  Sjekk tallerkenreferansen på begge sider, og g...  ",
      "text/html": "<div>\n<style scoped>\n    .dataframe tbody tr th:only-of-type {\n        vertical-align: middle;\n    }\n\n    .dataframe tbody tr th {\n        vertical-align: top;\n    }\n\n    .dataframe thead th {\n        text-align: right;\n    }\n</style>\n<table border=\"1\" class=\"dataframe\">\n  <thead>\n    <tr style=\"text-align: right;\">\n      <th></th>\n      <th>en</th>\n      <th>no</th>\n    </tr>\n  </thead>\n  <tbody>\n    <tr>\n      <th>0</th>\n      <td>This is because the right side is displaced fo...</td>\n      <td>Dette er fordi høyre side er forskjøvet fremov...</td>\n    </tr>\n    <tr>\n      <th>1</th>\n      <td>Add headset spacers under the upper plate as n...</td>\n      <td>Legg til hodesettavstandsstykker under den øvr...</td>\n    </tr>\n    <tr>\n      <th>2</th>\n      <td>Repeat impacting the BBT-30.4 driver until one...</td>\n      <td>Gjenta støt på BBT-30.4-driveren til en lagers...</td>\n    </tr>\n    <tr>\n      <th>3</th>\n      <td>Impacts to the side of the rim from falling do...</td>\n      <td>Støt på siden av felgen fra fall ned eller kra...</td>\n    </tr>\n    <tr>\n      <th>4</th>\n      <td>Check the dish reference on both sides, and re...</td>\n      <td>Sjekk tallerkenreferansen på begge sider, og g...</td>\n    </tr>\n  </tbody>\n</table>\n</div>"
     },
     "execution_count": 20,
     "metadata": {},
     "output_type": "execute_result"
    }
   ],
   "source": [
    "with open('sentence_pair_test_google.jsonl', 'r', encoding='utf-8') as f:\n",
    "    dataset_google = f.readlines()\n",
    "\n",
    "dataset_list_google = [eval(i)['translation'] for i in dataset_google]\n",
    "dataset_list_google\n",
    "\n",
    "import pandas as pd\n",
    "\n",
    "df_google = pd.DataFrame.from_dict(dataset_list_google)\n",
    "df_google.head()"
   ],
   "metadata": {
    "collapsed": false
   }
  },
  {
   "cell_type": "code",
   "execution_count": 21,
   "outputs": [],
   "source": [
    "df['google_translate'] = df_google['no'].apply(lambda x: x)"
   ],
   "metadata": {
    "collapsed": false
   }
  },
  {
   "cell_type": "code",
   "execution_count": 22,
   "outputs": [
    {
     "name": "stdout",
     "output_type": "stream",
     "text": [
      "8.5\n",
      "47.0\n",
      "18.9\n",
      "47.6\n",
      "38.8\n",
      "31.5\n",
      "12.9\n",
      "27.8\n",
      "29.7\n",
      "7.9\n",
      "28.4\n",
      "67.7\n",
      "49.2\n",
      "36.7\n",
      "46.6\n",
      "40.0\n",
      "63.4\n",
      "40.1\n",
      "26.0\n",
      "24.7\n",
      "60.9\n",
      "19.5\n",
      "52.0\n",
      "44.1\n",
      "77.0\n",
      "34.6\n",
      "45.8\n",
      "33.9\n",
      "24.2\n",
      "8.5\n",
      "46.5\n",
      "12.0\n",
      "22.4\n",
      "36.7\n",
      "54.5\n",
      "18.4\n",
      "35.1\n",
      "20.0\n",
      "49.2\n",
      "39.7\n",
      "37.6\n",
      "17.8\n",
      "22.6\n",
      "55.6\n",
      "36.2\n",
      "36.4\n",
      "11.1\n",
      "6.4\n",
      "57.1\n",
      "24.9\n",
      "81.3\n",
      "33.7\n",
      "15.5\n",
      "76.0\n",
      "50.4\n",
      "53.3\n",
      "10.8\n",
      "23.5\n",
      "62.4\n",
      "50.9\n",
      "4.1\n",
      "10.6\n",
      "48.6\n",
      "69.0\n",
      "8.2\n",
      "2.7\n",
      "47.5\n",
      "39.3\n",
      "13.4\n",
      "9.9\n",
      "51.4\n",
      "61.9\n",
      "53.1\n",
      "15.7\n",
      "25.5\n",
      "32.4\n",
      "41.3\n",
      "61.3\n",
      "4.4\n",
      "50.5\n",
      "57.1\n",
      "7.9\n",
      "79.4\n",
      "33.9\n",
      "34.5\n",
      "52.0\n",
      "27.7\n",
      "74.0\n",
      "23.5\n",
      "41.6\n",
      "48.5\n",
      "20.6\n",
      "7.3\n",
      "67.7\n",
      "33.3\n",
      "36.7\n",
      "43.4\n",
      "17.6\n",
      "56.6\n",
      "55.5\n"
     ]
    }
   ],
   "source": [
    "df['google_translation_bleu'] = df[['google_translate','no']].apply(lambda x: compute_blue(*x), axis=1)"
   ],
   "metadata": {
    "collapsed": false
   }
  },
  {
   "cell_type": "code",
   "execution_count": 23,
   "outputs": [
    {
     "name": "stdout",
     "output_type": "stream",
     "text": [
      "36.615\n"
     ]
    }
   ],
   "source": [
    "print(df['google_translation_bleu'].mean())"
   ],
   "metadata": {
    "collapsed": false
   }
  },
  {
   "cell_type": "code",
   "execution_count": 1,
   "outputs": [
    {
     "data": {
      "text/plain": "   Unnamed: 0                                                 en  \\\n0           0  This is because the right side is displaced fo...   \n1           1  Add headset spacers under the upper plate as n...   \n2           2  Repeat impacting the BBT-30.4 driver until one...   \n3           3  Impacts to the side of the rim from falling do...   \n4           4  Check the dish reference on both sides, and re...   \n\n                                                  no  \\\n0  Dette skyldes at høyre side forskyves fremover...   \n1  Legg styrelager spacere under den øvre platen ...   \n2  Fortsett å bruk BBT-30.4 til en lagerskålene e...   \n3  Påvirkning på siden av felgen fra fall eller k...   \n4  Kontroller sentreringsreferansen på begge side...   \n\n                                 initial_translation  \\\n0  Dette skyldes at den høyre siden er forskjøvet...   \n1  Legg hodesettet avstandsstykker under den øvre...   \n2  Gjenta å påvirke BBT-30.4 driveren til en lage...   \n3  Virkninger på siden av felgen fra å falle ned ...   \n4  Kontroller tallerkenreferansen på begge sider,...   \n\n                               finetuned_translation  \\\n0  Dette skyldes at den høyre siden er forskjøvet...   \n1  Legg styrelager spacere under den øvre platen ...   \n2  Gjennsett slagene på BBT-30,4 driveren til en ...   \n3  Virkninger på siden av felgen fra å falle ned ...   \n4  Sjekk sentreringsreferansen på begge sider, og...   \n\n   initial_translation_bleu  finetuned_translation_bleu  \n0                       8.2                         8.2  \n1                      47.0                        39.6  \n2                       8.5                         7.9  \n3                      38.8                        38.8  \n4                      52.8                        57.2  ",
      "text/html": "<div>\n<style scoped>\n    .dataframe tbody tr th:only-of-type {\n        vertical-align: middle;\n    }\n\n    .dataframe tbody tr th {\n        vertical-align: top;\n    }\n\n    .dataframe thead th {\n        text-align: right;\n    }\n</style>\n<table border=\"1\" class=\"dataframe\">\n  <thead>\n    <tr style=\"text-align: right;\">\n      <th></th>\n      <th>Unnamed: 0</th>\n      <th>en</th>\n      <th>no</th>\n      <th>initial_translation</th>\n      <th>finetuned_translation</th>\n      <th>initial_translation_bleu</th>\n      <th>finetuned_translation_bleu</th>\n    </tr>\n  </thead>\n  <tbody>\n    <tr>\n      <th>0</th>\n      <td>0</td>\n      <td>This is because the right side is displaced fo...</td>\n      <td>Dette skyldes at høyre side forskyves fremover...</td>\n      <td>Dette skyldes at den høyre siden er forskjøvet...</td>\n      <td>Dette skyldes at den høyre siden er forskjøvet...</td>\n      <td>8.2</td>\n      <td>8.2</td>\n    </tr>\n    <tr>\n      <th>1</th>\n      <td>1</td>\n      <td>Add headset spacers under the upper plate as n...</td>\n      <td>Legg styrelager spacere under den øvre platen ...</td>\n      <td>Legg hodesettet avstandsstykker under den øvre...</td>\n      <td>Legg styrelager spacere under den øvre platen ...</td>\n      <td>47.0</td>\n      <td>39.6</td>\n    </tr>\n    <tr>\n      <th>2</th>\n      <td>2</td>\n      <td>Repeat impacting the BBT-30.4 driver until one...</td>\n      <td>Fortsett å bruk BBT-30.4 til en lagerskålene e...</td>\n      <td>Gjenta å påvirke BBT-30.4 driveren til en lage...</td>\n      <td>Gjennsett slagene på BBT-30,4 driveren til en ...</td>\n      <td>8.5</td>\n      <td>7.9</td>\n    </tr>\n    <tr>\n      <th>3</th>\n      <td>3</td>\n      <td>Impacts to the side of the rim from falling do...</td>\n      <td>Påvirkning på siden av felgen fra fall eller k...</td>\n      <td>Virkninger på siden av felgen fra å falle ned ...</td>\n      <td>Virkninger på siden av felgen fra å falle ned ...</td>\n      <td>38.8</td>\n      <td>38.8</td>\n    </tr>\n    <tr>\n      <th>4</th>\n      <td>4</td>\n      <td>Check the dish reference on both sides, and re...</td>\n      <td>Kontroller sentreringsreferansen på begge side...</td>\n      <td>Kontroller tallerkenreferansen på begge sider,...</td>\n      <td>Sjekk sentreringsreferansen på begge sider, og...</td>\n      <td>52.8</td>\n      <td>57.2</td>\n    </tr>\n  </tbody>\n</table>\n</div>"
     },
     "execution_count": 1,
     "metadata": {},
     "output_type": "execute_result"
    }
   ],
   "source": [
    "import pandas as pd\n",
    "df = pd.read_csv('evaluate_finetuned_translation.csv', encoding='latin1')\n",
    "df.head()\n"
   ],
   "metadata": {
    "collapsed": false
   }
  },
  {
   "cell_type": "code",
   "execution_count": 3,
   "outputs": [
    {
     "data": {
      "text/plain": "                                                  en  \\\n0  This is because the right side is displaced fo...   \n1  Add headset spacers under the upper plate as n...   \n2  Repeat impacting the BBT-30.4 driver until one...   \n3  Impacts to the side of the rim from falling do...   \n4  Check the dish reference on both sides, and re...   \n\n                                                  no  \n0  Dette er fordi høyre side er forskjøvet fremov...  \n1  Legg til hodesettavstandsstykker under den øvr...  \n2  Gjenta støt på BBT-30.4-driveren til en lagers...  \n3  Støt på siden av felgen fra fall ned eller kra...  \n4  Sjekk tallerkenreferansen på begge sider, og g...  ",
      "text/html": "<div>\n<style scoped>\n    .dataframe tbody tr th:only-of-type {\n        vertical-align: middle;\n    }\n\n    .dataframe tbody tr th {\n        vertical-align: top;\n    }\n\n    .dataframe thead th {\n        text-align: right;\n    }\n</style>\n<table border=\"1\" class=\"dataframe\">\n  <thead>\n    <tr style=\"text-align: right;\">\n      <th></th>\n      <th>en</th>\n      <th>no</th>\n    </tr>\n  </thead>\n  <tbody>\n    <tr>\n      <th>0</th>\n      <td>This is because the right side is displaced fo...</td>\n      <td>Dette er fordi høyre side er forskjøvet fremov...</td>\n    </tr>\n    <tr>\n      <th>1</th>\n      <td>Add headset spacers under the upper plate as n...</td>\n      <td>Legg til hodesettavstandsstykker under den øvr...</td>\n    </tr>\n    <tr>\n      <th>2</th>\n      <td>Repeat impacting the BBT-30.4 driver until one...</td>\n      <td>Gjenta støt på BBT-30.4-driveren til en lagers...</td>\n    </tr>\n    <tr>\n      <th>3</th>\n      <td>Impacts to the side of the rim from falling do...</td>\n      <td>Støt på siden av felgen fra fall ned eller kra...</td>\n    </tr>\n    <tr>\n      <th>4</th>\n      <td>Check the dish reference on both sides, and re...</td>\n      <td>Sjekk tallerkenreferansen på begge sider, og g...</td>\n    </tr>\n  </tbody>\n</table>\n</div>"
     },
     "execution_count": 3,
     "metadata": {},
     "output_type": "execute_result"
    }
   ],
   "source": [
    "with open('sentence_pair_test_google.jsonl', 'r', encoding='utf-8') as f:\n",
    "    dataset_google = f.readlines()\n",
    "\n",
    "dataset_list_google = [eval(i)['translation'] for i in dataset_google]\n",
    "dataset_list_google\n",
    "\n",
    "\n",
    "df_google = pd.DataFrame.from_dict(dataset_list_google)\n",
    "df_google.head()"
   ],
   "metadata": {
    "collapsed": false
   }
  },
  {
   "cell_type": "code",
   "execution_count": 4,
   "outputs": [],
   "source": [
    "df['google_translate'] = df_google['no'].apply(lambda x: x)"
   ],
   "metadata": {
    "collapsed": false
   }
  },
  {
   "cell_type": "code",
   "execution_count": 5,
   "outputs": [
    {
     "data": {
      "text/plain": "   Unnamed: 0                                                 en  \\\n0           0  This is because the right side is displaced fo...   \n1           1  Add headset spacers under the upper plate as n...   \n2           2  Repeat impacting the BBT-30.4 driver until one...   \n3           3  Impacts to the side of the rim from falling do...   \n4           4  Check the dish reference on both sides, and re...   \n\n                                                  no  \\\n0  Dette skyldes at høyre side forskyves fremover...   \n1  Legg styrelager spacere under den øvre platen ...   \n2  Fortsett å bruk BBT-30.4 til en lagerskålene e...   \n3  Påvirkning på siden av felgen fra fall eller k...   \n4  Kontroller sentreringsreferansen på begge side...   \n\n                                 initial_translation  \\\n0  Dette skyldes at den høyre siden er forskjøvet...   \n1  Legg hodesettet avstandsstykker under den øvre...   \n2  Gjenta å påvirke BBT-30.4 driveren til en lage...   \n3  Virkninger på siden av felgen fra å falle ned ...   \n4  Kontroller tallerkenreferansen på begge sider,...   \n\n                               finetuned_translation  \\\n0  Dette skyldes at den høyre siden er forskjøvet...   \n1  Legg styrelager spacere under den øvre platen ...   \n2  Gjennsett slagene på BBT-30,4 driveren til en ...   \n3  Virkninger på siden av felgen fra å falle ned ...   \n4  Sjekk sentreringsreferansen på begge sider, og...   \n\n   initial_translation_bleu  finetuned_translation_bleu  \\\n0                       8.2                         8.2   \n1                      47.0                        39.6   \n2                       8.5                         7.9   \n3                      38.8                        38.8   \n4                      52.8                        57.2   \n\n                                    google_translate  \n0  Dette er fordi høyre side er forskjøvet fremov...  \n1  Legg til hodesettavstandsstykker under den øvr...  \n2  Gjenta støt på BBT-30.4-driveren til en lagers...  \n3  Støt på siden av felgen fra fall ned eller kra...  \n4  Sjekk tallerkenreferansen på begge sider, og g...  ",
      "text/html": "<div>\n<style scoped>\n    .dataframe tbody tr th:only-of-type {\n        vertical-align: middle;\n    }\n\n    .dataframe tbody tr th {\n        vertical-align: top;\n    }\n\n    .dataframe thead th {\n        text-align: right;\n    }\n</style>\n<table border=\"1\" class=\"dataframe\">\n  <thead>\n    <tr style=\"text-align: right;\">\n      <th></th>\n      <th>Unnamed: 0</th>\n      <th>en</th>\n      <th>no</th>\n      <th>initial_translation</th>\n      <th>finetuned_translation</th>\n      <th>initial_translation_bleu</th>\n      <th>finetuned_translation_bleu</th>\n      <th>google_translate</th>\n    </tr>\n  </thead>\n  <tbody>\n    <tr>\n      <th>0</th>\n      <td>0</td>\n      <td>This is because the right side is displaced fo...</td>\n      <td>Dette skyldes at høyre side forskyves fremover...</td>\n      <td>Dette skyldes at den høyre siden er forskjøvet...</td>\n      <td>Dette skyldes at den høyre siden er forskjøvet...</td>\n      <td>8.2</td>\n      <td>8.2</td>\n      <td>Dette er fordi høyre side er forskjøvet fremov...</td>\n    </tr>\n    <tr>\n      <th>1</th>\n      <td>1</td>\n      <td>Add headset spacers under the upper plate as n...</td>\n      <td>Legg styrelager spacere under den øvre platen ...</td>\n      <td>Legg hodesettet avstandsstykker under den øvre...</td>\n      <td>Legg styrelager spacere under den øvre platen ...</td>\n      <td>47.0</td>\n      <td>39.6</td>\n      <td>Legg til hodesettavstandsstykker under den øvr...</td>\n    </tr>\n    <tr>\n      <th>2</th>\n      <td>2</td>\n      <td>Repeat impacting the BBT-30.4 driver until one...</td>\n      <td>Fortsett å bruk BBT-30.4 til en lagerskålene e...</td>\n      <td>Gjenta å påvirke BBT-30.4 driveren til en lage...</td>\n      <td>Gjennsett slagene på BBT-30,4 driveren til en ...</td>\n      <td>8.5</td>\n      <td>7.9</td>\n      <td>Gjenta støt på BBT-30.4-driveren til en lagers...</td>\n    </tr>\n    <tr>\n      <th>3</th>\n      <td>3</td>\n      <td>Impacts to the side of the rim from falling do...</td>\n      <td>Påvirkning på siden av felgen fra fall eller k...</td>\n      <td>Virkninger på siden av felgen fra å falle ned ...</td>\n      <td>Virkninger på siden av felgen fra å falle ned ...</td>\n      <td>38.8</td>\n      <td>38.8</td>\n      <td>Støt på siden av felgen fra fall ned eller kra...</td>\n    </tr>\n    <tr>\n      <th>4</th>\n      <td>4</td>\n      <td>Check the dish reference on both sides, and re...</td>\n      <td>Kontroller sentreringsreferansen på begge side...</td>\n      <td>Kontroller tallerkenreferansen på begge sider,...</td>\n      <td>Sjekk sentreringsreferansen på begge sider, og...</td>\n      <td>52.8</td>\n      <td>57.2</td>\n      <td>Sjekk tallerkenreferansen på begge sider, og g...</td>\n    </tr>\n  </tbody>\n</table>\n</div>"
     },
     "execution_count": 5,
     "metadata": {},
     "output_type": "execute_result"
    }
   ],
   "source": [
    "df.head()\n"
   ],
   "metadata": {
    "collapsed": false
   }
  },
  {
   "cell_type": "code",
   "execution_count": 9,
   "outputs": [
    {
     "name": "stdout",
     "output_type": "stream",
     "text": [
      "8.5\n",
      "47.0\n",
      "18.9\n",
      "47.6\n",
      "38.8\n",
      "31.5\n",
      "12.9\n",
      "27.8\n",
      "29.7\n",
      "7.9\n",
      "28.4\n",
      "67.7\n",
      "49.2\n",
      "36.7\n",
      "46.6\n",
      "40.0\n",
      "63.4\n",
      "40.1\n",
      "26.0\n",
      "24.7\n",
      "60.9\n",
      "19.5\n",
      "52.0\n",
      "44.1\n",
      "77.0\n",
      "34.6\n",
      "45.8\n",
      "33.9\n",
      "24.2\n",
      "8.5\n",
      "46.5\n",
      "12.0\n",
      "22.4\n",
      "36.7\n",
      "54.5\n",
      "18.4\n",
      "35.1\n",
      "20.0\n",
      "49.2\n",
      "39.7\n",
      "37.6\n",
      "17.8\n",
      "22.6\n",
      "55.6\n",
      "36.2\n",
      "36.4\n",
      "11.1\n",
      "6.4\n",
      "57.1\n",
      "24.9\n",
      "81.3\n",
      "33.7\n",
      "15.5\n",
      "76.0\n",
      "50.4\n",
      "53.3\n",
      "10.8\n",
      "23.5\n",
      "62.4\n",
      "50.9\n",
      "4.1\n",
      "10.6\n",
      "48.6\n",
      "69.0\n",
      "8.2\n",
      "2.7\n",
      "47.5\n",
      "39.3\n",
      "13.4\n",
      "9.9\n",
      "51.4\n",
      "61.9\n",
      "53.1\n",
      "15.7\n",
      "25.5\n",
      "32.4\n",
      "41.3\n",
      "61.3\n",
      "4.4\n",
      "50.5\n",
      "57.1\n",
      "7.9\n",
      "79.4\n",
      "33.9\n",
      "34.5\n",
      "52.0\n",
      "27.7\n",
      "74.0\n",
      "23.5\n",
      "41.6\n",
      "48.5\n",
      "20.6\n",
      "7.3\n",
      "67.7\n",
      "33.3\n",
      "36.7\n",
      "43.4\n",
      "17.6\n",
      "56.6\n",
      "55.5\n"
     ]
    }
   ],
   "source": [
    "df['google_translation_bleu'] = df[['google_translate','no']].apply(lambda x: compute_blue(*x), axis=1)"
   ],
   "metadata": {
    "collapsed": false
   }
  },
  {
   "cell_type": "code",
   "execution_count": 17,
   "outputs": [],
   "source": [
    "df['finetuned_translation_bleu'] = df['finetuned_translation_bleu'].astype('str')"
   ],
   "metadata": {
    "collapsed": false
   }
  },
  {
   "cell_type": "code",
   "execution_count": 18,
   "outputs": [],
   "source": [
    "df.to_csv('evaluation_sacrebleu.csv', sep=';', encoding='latin1')"
   ],
   "metadata": {
    "collapsed": false
   }
  },
  {
   "cell_type": "code",
   "execution_count": null,
   "outputs": [],
   "source": [],
   "metadata": {
    "collapsed": false
   }
  }
 ],
 "metadata": {
  "kernelspec": {
   "display_name": "Python 3",
   "language": "python",
   "name": "python3"
  },
  "language_info": {
   "codemirror_mode": {
    "name": "ipython",
    "version": 2
   },
   "file_extension": ".py",
   "mimetype": "text/x-python",
   "name": "python",
   "nbconvert_exporter": "python",
   "pygments_lexer": "ipython2",
   "version": "2.7.6"
  }
 },
 "nbformat": 4,
 "nbformat_minor": 0
}
