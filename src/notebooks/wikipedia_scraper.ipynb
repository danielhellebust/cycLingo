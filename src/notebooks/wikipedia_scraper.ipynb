{
 "cells": [
  {
   "cell_type": "code",
   "execution_count": 1,
   "outputs": [],
   "source": [
    "import time\n",
    "from selenium import webdriver\n",
    "from selenium.webdriver.chrome.service import Service\n",
    "from selenium.webdriver.common.by import By\n",
    "from selenium.webdriver.common.action_chains import ActionChains\n",
    "import bs4"
   ],
   "metadata": {
    "collapsed": false
   }
  },
  {
   "cell_type": "markdown",
   "source": [
    "### Download chromedriver as per documentation: https://www.selenium.dev/documentation/webdriver/getting_started/install_drivers/"
   ],
   "metadata": {
    "collapsed": false
   }
  },
  {
   "cell_type": "code",
   "execution_count": 2,
   "outputs": [],
   "source": [
    "class Browser:\n",
    "    browser, service = None, None\n",
    "\n",
    "    # Initialise the webdriver with the path to chromedriver.exe\n",
    "    def __init__(self, driver: str):\n",
    "        self.service = Service(driver)\n",
    "        self.browser = webdriver.Chrome(service=self.service)\n",
    "\n",
    "    def open_page(self, url: str):\n",
    "        self.browser.get(url)\n",
    "\n",
    "    def close_browser(self):\n",
    "        self.browser.close()\n"
   ],
   "metadata": {
    "collapsed": false
   }
  },
  {
   "cell_type": "code",
   "execution_count": 10,
   "metadata": {
    "collapsed": true
   },
   "outputs": [],
   "source": [
    "def get_wikidata():\n",
    "    browser = Browser('./chromedriver.exe')\n",
    "    temp_list = []\n",
    "    for i in range(74):\n",
    "        site_number = i+1\n",
    "        browser.open_page(f'https://wp1.openzim.org/#/project/Cycling/articles?quality=Assessed-Class&page={site_number}&numRows=500')\n",
    "        time.sleep(3)\n",
    "\n",
    "        elem2 = browser.browser.find_element(By.ID, \"app\")\n",
    "        html = elem2.get_attribute('innerHTML')\n",
    "        soup = bs4.BeautifulSoup(html, 'html.parser')\n",
    "\n",
    "        result = soup.findAll('table')\n",
    "        for i in result:\n",
    "            for j in i.findAll('td'):\n",
    "                try:\n",
    "                    if not 'redirect' in j.a['href']:\n",
    "                        temp_list.append(j.a['href'])\n",
    "                except:\n",
    "                    pass\n",
    "\n",
    "        print(len(temp_list))\n",
    "\n",
    "        try:\n",
    "            elem_next = browser.browser.find_element(By.XPATH, '/html/body/div/div[2]/div/div[2]/div/div/div/div[5]/p[3]/span/a')\n",
    "            action.move_to_element(elem_alpin).click().perform()\n",
    "            time.sleep(3)\n",
    "        except:\n",
    "            continue\n",
    "\n",
    "    browser.close_browser()\n",
    "    return temp_list\n",
    "\n"
   ]
  },
  {
   "cell_type": "code",
   "execution_count": 11,
   "outputs": [
    {
     "name": "stdout",
     "output_type": "stream",
     "text": [
      "500\n",
      "1000\n",
      "1500\n",
      "2000\n",
      "2500\n",
      "3000\n",
      "3500\n",
      "4000\n",
      "4500\n",
      "5000\n",
      "5500\n",
      "6000\n",
      "6500\n",
      "7000\n",
      "7500\n",
      "8000\n",
      "8500\n",
      "9000\n",
      "9500\n",
      "10000\n",
      "10500\n",
      "11000\n",
      "11500\n",
      "12000\n",
      "12500\n",
      "13000\n",
      "13500\n",
      "14000\n",
      "14500\n",
      "15000\n",
      "15500\n",
      "16000\n",
      "16500\n",
      "17000\n",
      "17500\n",
      "18000\n",
      "18500\n",
      "19000\n",
      "19500\n",
      "20000\n",
      "20500\n",
      "21000\n",
      "21500\n",
      "22000\n",
      "22500\n",
      "23000\n",
      "23500\n",
      "24000\n",
      "24500\n",
      "25000\n",
      "25500\n",
      "26000\n",
      "26500\n",
      "27000\n",
      "27500\n",
      "28000\n",
      "28500\n",
      "29000\n",
      "29500\n",
      "30000\n",
      "30500\n",
      "31000\n",
      "31500\n",
      "32000\n",
      "32500\n",
      "33000\n",
      "33500\n",
      "34000\n",
      "34500\n",
      "35000\n",
      "35500\n",
      "36000\n",
      "36500\n",
      "36704\n"
     ]
    }
   ],
   "source": [
    "url_list = get_wikidata()"
   ],
   "metadata": {
    "collapsed": false
   }
  },
  {
   "cell_type": "code",
   "execution_count": 12,
   "outputs": [
    {
     "name": "stdout",
     "output_type": "stream",
     "text": [
      "['https://en.wikipedia.org/w/index.php?title=BMX', 'https://en.wikipedia.org/w/index.php?title=BMX%20bike', 'https://en.wikipedia.org/w/index.php?title=BMX%20racing', 'https://en.wikipedia.org/w/index.php?title=Bicycle', 'https://en.wikipedia.org/w/index.php?title=Bicycle-sharing%20system', 'https://en.wikipedia.org/w/index.php?title=Bicycle%20culture', 'https://en.wikipedia.org/w/index.php?title=Bicycle%20performance', 'https://en.wikipedia.org/w/index.php?title=Cycle%20sport', 'https://en.wikipedia.org/w/index.php?title=Cycling', 'https://en.wikipedia.org/w/index.php?title=Cycling%20at%20the%20Summer%20Olympics']\n"
     ]
    }
   ],
   "source": [
    "print(url_list[:10])"
   ],
   "metadata": {
    "collapsed": false
   }
  },
  {
   "cell_type": "code",
   "execution_count": 13,
   "outputs": [],
   "source": [
    "with open('wiki_url_list.txt', 'w') as f:\n",
    "     for url in url_list:\n",
    "         f.write(\"%s \\r  \" % url)"
   ],
   "metadata": {
    "collapsed": false
   }
  },
  {
   "cell_type": "code",
   "execution_count": null,
   "outputs": [],
   "source": [
    "import requests\n",
    "\n",
    "article_text = []\n",
    "\n",
    "def get_wiki_article(url):\n",
    "    try:\n",
    "        req = requests.get(url)\n",
    "        soup = BeautifulSoup(req.text, \"html.parser\")\n",
    "        text = soup.findAll('div', {'class': 'mw-parser-output'})\n",
    "        sentence_list = []\n",
    "\n",
    "        for i in text:\n",
    "            body = i.findAll('p')\n",
    "            for j in body:\n",
    "                sentence_list.append(j.text)\n",
    "        return sentence_list\n",
    "    except:\n",
    "        pass\n",
    "\n",
    "for i in url_list:\n",
    "    try:\n",
    "        article_text.extend(get_wiki_article(i))\n",
    "        print(len(article_text))\n",
    "        sleep(1)\n",
    "    except:\n",
    "        pass\n",
    "\n",
    "with open('wiki_article_text.txt', 'w', encoding='utf-8') as f:\n",
    "    for url in article_text:\n",
    "        try:\n",
    "            f.write(\"%s \\r  \" % url)\n",
    "        except:\n",
    "            pass"
   ],
   "metadata": {
    "collapsed": false
   }
  },
  {
   "cell_type": "code",
   "execution_count": null,
   "outputs": [],
   "source": [],
   "metadata": {
    "collapsed": false
   }
  }
 ],
 "metadata": {
  "kernelspec": {
   "display_name": "Python 3",
   "language": "python",
   "name": "python3"
  },
  "language_info": {
   "codemirror_mode": {
    "name": "ipython",
    "version": 2
   },
   "file_extension": ".py",
   "mimetype": "text/x-python",
   "name": "python",
   "nbconvert_exporter": "python",
   "pygments_lexer": "ipython2",
   "version": "2.7.6"
  }
 },
 "nbformat": 4,
 "nbformat_minor": 0
}
