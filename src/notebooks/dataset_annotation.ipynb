{
 "cells": [
  {
   "cell_type": "code",
   "execution_count": 1,
   "metadata": {
    "collapsed": true
   },
   "outputs": [],
   "source": [
    "import pandas as pd\n",
    "import re\n",
    "import spacy\n",
    "from spacy import displacy\n",
    "import spacy_transformers"
   ]
  },
  {
   "cell_type": "code",
   "execution_count": 3,
   "outputs": [
    {
     "name": "stdout",
     "output_type": "stream",
     "text": [
      "Collecting en-core-web-sm==3.5.0\n",
      "  Downloading https://github.com/explosion/spacy-models/releases/download/en_core_web_sm-3.5.0/en_core_web_sm-3.5.0-py3-none-any.whl (12.8 MB)\n",
      "Requirement already satisfied: spacy<3.6.0,>=3.5.0 in c:\\users\\danie\\pycharmprojects\\testcyclingo\\bike_env\\lib\\site-packages (from en-core-web-sm==3.5.0) (3.5.1)\n",
      "Requirement already satisfied: thinc<8.2.0,>=8.1.8 in c:\\users\\danie\\pycharmprojects\\testcyclingo\\bike_env\\lib\\site-packages (from spacy<3.6.0,>=3.5.0->en-core-web-sm==3.5.0) (8.1.9)\n",
      "Requirement already satisfied: jinja2 in c:\\users\\danie\\pycharmprojects\\testcyclingo\\bike_env\\lib\\site-packages (from spacy<3.6.0,>=3.5.0->en-core-web-sm==3.5.0) (3.1.2)\n",
      "Requirement already satisfied: preshed<3.1.0,>=3.0.2 in c:\\users\\danie\\pycharmprojects\\testcyclingo\\bike_env\\lib\\site-packages (from spacy<3.6.0,>=3.5.0->en-core-web-sm==3.5.0) (3.0.8)\n",
      "Requirement already satisfied: cymem<2.1.0,>=2.0.2 in c:\\users\\danie\\pycharmprojects\\testcyclingo\\bike_env\\lib\\site-packages (from spacy<3.6.0,>=3.5.0->en-core-web-sm==3.5.0) (2.0.7)\n",
      "Requirement already satisfied: catalogue<2.1.0,>=2.0.6 in c:\\users\\danie\\pycharmprojects\\testcyclingo\\bike_env\\lib\\site-packages (from spacy<3.6.0,>=3.5.0->en-core-web-sm==3.5.0) (2.0.8)\n",
      "Requirement already satisfied: numpy>=1.15.0 in c:\\users\\danie\\pycharmprojects\\testcyclingo\\bike_env\\lib\\site-packages (from spacy<3.6.0,>=3.5.0->en-core-web-sm==3.5.0) (1.24.2)\n",
      "Requirement already satisfied: langcodes<4.0.0,>=3.2.0 in c:\\users\\danie\\pycharmprojects\\testcyclingo\\bike_env\\lib\\site-packages (from spacy<3.6.0,>=3.5.0->en-core-web-sm==3.5.0) (3.3.0)\n",
      "Requirement already satisfied: wasabi<1.2.0,>=0.9.1 in c:\\users\\danie\\pycharmprojects\\testcyclingo\\bike_env\\lib\\site-packages (from spacy<3.6.0,>=3.5.0->en-core-web-sm==3.5.0) (1.1.1)\n",
      "Requirement already satisfied: spacy-legacy<3.1.0,>=3.0.11 in c:\\users\\danie\\pycharmprojects\\testcyclingo\\bike_env\\lib\\site-packages (from spacy<3.6.0,>=3.5.0->en-core-web-sm==3.5.0) (3.0.12)\n",
      "Requirement already satisfied: spacy-loggers<2.0.0,>=1.0.0 in c:\\users\\danie\\pycharmprojects\\testcyclingo\\bike_env\\lib\\site-packages (from spacy<3.6.0,>=3.5.0->en-core-web-sm==3.5.0) (1.0.4)\n",
      "Requirement already satisfied: requests<3.0.0,>=2.13.0 in c:\\users\\danie\\pycharmprojects\\testcyclingo\\bike_env\\lib\\site-packages (from spacy<3.6.0,>=3.5.0->en-core-web-sm==3.5.0) (2.28.2)\n",
      "Requirement already satisfied: smart-open<7.0.0,>=5.2.1 in c:\\users\\danie\\pycharmprojects\\testcyclingo\\bike_env\\lib\\site-packages (from spacy<3.6.0,>=3.5.0->en-core-web-sm==3.5.0) (6.3.0)\n",
      "Requirement already satisfied: typer<0.8.0,>=0.3.0 in c:\\users\\danie\\pycharmprojects\\testcyclingo\\bike_env\\lib\\site-packages (from spacy<3.6.0,>=3.5.0->en-core-web-sm==3.5.0) (0.7.0)\n",
      "Requirement already satisfied: tqdm<5.0.0,>=4.38.0 in c:\\users\\danie\\pycharmprojects\\testcyclingo\\bike_env\\lib\\site-packages (from spacy<3.6.0,>=3.5.0->en-core-web-sm==3.5.0) (4.65.0)\n",
      "Requirement already satisfied: setuptools in c:\\users\\danie\\pycharmprojects\\testcyclingo\\bike_env\\lib\\site-packages (from spacy<3.6.0,>=3.5.0->en-core-web-sm==3.5.0) (60.2.0)\n",
      "Requirement already satisfied: murmurhash<1.1.0,>=0.28.0 in c:\\users\\danie\\pycharmprojects\\testcyclingo\\bike_env\\lib\\site-packages (from spacy<3.6.0,>=3.5.0->en-core-web-sm==3.5.0) (1.0.9)\n",
      "Requirement already satisfied: packaging>=20.0 in c:\\users\\danie\\pycharmprojects\\testcyclingo\\bike_env\\lib\\site-packages (from spacy<3.6.0,>=3.5.0->en-core-web-sm==3.5.0) (23.1)\n",
      "Requirement already satisfied: pathy>=0.10.0 in c:\\users\\danie\\pycharmprojects\\testcyclingo\\bike_env\\lib\\site-packages (from spacy<3.6.0,>=3.5.0->en-core-web-sm==3.5.0) (0.10.1)\n",
      "Requirement already satisfied: pydantic!=1.8,!=1.8.1,<1.11.0,>=1.7.4 in c:\\users\\danie\\pycharmprojects\\testcyclingo\\bike_env\\lib\\site-packages (from spacy<3.6.0,>=3.5.0->en-core-web-sm==3.5.0) (1.10.7)\n",
      "Requirement already satisfied: srsly<3.0.0,>=2.4.3 in c:\\users\\danie\\pycharmprojects\\testcyclingo\\bike_env\\lib\\site-packages (from spacy<3.6.0,>=3.5.0->en-core-web-sm==3.5.0) (2.4.6)\n",
      "Requirement already satisfied: typing-extensions>=4.2.0 in c:\\users\\danie\\pycharmprojects\\testcyclingo\\bike_env\\lib\\site-packages (from pydantic!=1.8,!=1.8.1,<1.11.0,>=1.7.4->spacy<3.6.0,>=3.5.0->en-core-web-sm==3.5.0) (4.5.0)\n",
      "Requirement already satisfied: charset-normalizer<4,>=2 in c:\\users\\danie\\pycharmprojects\\testcyclingo\\bike_env\\lib\\site-packages (from requests<3.0.0,>=2.13.0->spacy<3.6.0,>=3.5.0->en-core-web-sm==3.5.0) (3.1.0)\n",
      "Requirement already satisfied: certifi>=2017.4.17 in c:\\users\\danie\\pycharmprojects\\testcyclingo\\bike_env\\lib\\site-packages (from requests<3.0.0,>=2.13.0->spacy<3.6.0,>=3.5.0->en-core-web-sm==3.5.0) (2022.12.7)\n",
      "Requirement already satisfied: idna<4,>=2.5 in c:\\users\\danie\\pycharmprojects\\testcyclingo\\bike_env\\lib\\site-packages (from requests<3.0.0,>=2.13.0->spacy<3.6.0,>=3.5.0->en-core-web-sm==3.5.0) (3.4)\n",
      "Requirement already satisfied: urllib3<1.27,>=1.21.1 in c:\\users\\danie\\pycharmprojects\\testcyclingo\\bike_env\\lib\\site-packages (from requests<3.0.0,>=2.13.0->spacy<3.6.0,>=3.5.0->en-core-web-sm==3.5.0) (1.26.15)\n",
      "Requirement already satisfied: confection<1.0.0,>=0.0.1 in c:\\users\\danie\\pycharmprojects\\testcyclingo\\bike_env\\lib\\site-packages (from thinc<8.2.0,>=8.1.8->spacy<3.6.0,>=3.5.0->en-core-web-sm==3.5.0) (0.0.4)\n",
      "Requirement already satisfied: blis<0.8.0,>=0.7.8 in c:\\users\\danie\\pycharmprojects\\testcyclingo\\bike_env\\lib\\site-packages (from thinc<8.2.0,>=8.1.8->spacy<3.6.0,>=3.5.0->en-core-web-sm==3.5.0) (0.7.9)\n",
      "Requirement already satisfied: colorama in c:\\users\\danie\\pycharmprojects\\testcyclingo\\bike_env\\lib\\site-packages (from tqdm<5.0.0,>=4.38.0->spacy<3.6.0,>=3.5.0->en-core-web-sm==3.5.0) (0.4.6)\n",
      "Requirement already satisfied: click<9.0.0,>=7.1.1 in c:\\users\\danie\\pycharmprojects\\testcyclingo\\bike_env\\lib\\site-packages (from typer<0.8.0,>=0.3.0->spacy<3.6.0,>=3.5.0->en-core-web-sm==3.5.0) (8.1.3)\n",
      "Requirement already satisfied: MarkupSafe>=2.0 in c:\\users\\danie\\pycharmprojects\\testcyclingo\\bike_env\\lib\\site-packages (from jinja2->spacy<3.6.0,>=3.5.0->en-core-web-sm==3.5.0) (2.1.2)\n",
      "Installing collected packages: en-core-web-sm\n",
      "Successfully installed en-core-web-sm-3.5.0\n",
      "\u001B[38;5;2m[+] Download and installation successful\u001B[0m\n",
      "You can now load the package via spacy.load('en_core_web_sm')\n"
     ]
    },
    {
     "name": "stderr",
     "output_type": "stream",
     "text": [
      "WARNING: You are using pip version 21.3.1; however, version 23.1 is available.\n",
      "You should consider upgrading via the 'C:\\Users\\danie\\PycharmProjects\\testCyclingo\\bike_env\\Scripts\\python.exe -m pip install --upgrade pip' command.\n"
     ]
    }
   ],
   "source": [
    "!python -m spacy download en_core_web_sm"
   ],
   "metadata": {
    "collapsed": false
   }
  },
  {
   "cell_type": "code",
   "execution_count": 4,
   "outputs": [],
   "source": [
    "nlp = spacy.load(\"en_core_web_sm\")"
   ],
   "metadata": {
    "collapsed": false
   }
  },
  {
   "cell_type": "code",
   "execution_count": 8,
   "outputs": [],
   "source": [
    "with open(\"../dataset/example_text.txt\", \"r\") as f:\n",
    "    text = f.readlines()"
   ],
   "metadata": {
    "collapsed": false
   }
  },
  {
   "cell_type": "code",
   "execution_count": 9,
   "outputs": [],
   "source": [
    "df = pd.DataFrame(text, columns=['sentence'])"
   ],
   "metadata": {
    "collapsed": false
   }
  },
  {
   "cell_type": "code",
   "execution_count": 10,
   "outputs": [],
   "source": [
    "df['size'] = df['sentence'].apply(lambda x: len(x))"
   ],
   "metadata": {
    "collapsed": false
   }
  },
  {
   "cell_type": "code",
   "execution_count": 11,
   "outputs": [
    {
     "data": {
      "text/plain": "                                             sentence  size\n1     The PRS-33.2 is Park Tools most versatile re...   540\n3     Pull the clamp out of the top tube. This wil...   422\n17    Next, check the set screws in the coupler th...   398\n20    The drive shaft in the carriage goes to a sm...   343\n2     Well begin with the clamp. Inspect the jaw c...   317\n16    Perform a quick visual inspection of the mot...   291\n6     The top tube of the repair stand may become ...   257\n14    To access these screws, you will need to rem...   243\n0   This article will review some typical yearly m...   216\n13    It is possible for vibrations from the motor...   197\n10    Loosen and remove the bolts holding the uppe...   159\n11    Inspect the carriage and top tube for any we...   155\n18    Next, take a look at the back side of the mo...   149\n19    Check all eight of the other Phillips head s...   143\n8     Tip the stand on its side and onto a sturdy ...   129\n15    Next, unhook the wiring harness from the mot...   123\n4     If the wear is acceptable, grease the thread...   116\n5     While the clamp is removed, wipe out the ins...   105\n12    With the carriage off, apply threadlocker to...    89\n21    Reconnect the wiring harness to the motor an...    70\n9     Loosen the cross bar mounting screws and rem...    64\n7     Begin by driving the carriage nearly to the ...    64",
      "text/html": "<div>\n<style scoped>\n    .dataframe tbody tr th:only-of-type {\n        vertical-align: middle;\n    }\n\n    .dataframe tbody tr th {\n        vertical-align: top;\n    }\n\n    .dataframe thead th {\n        text-align: right;\n    }\n</style>\n<table border=\"1\" class=\"dataframe\">\n  <thead>\n    <tr style=\"text-align: right;\">\n      <th></th>\n      <th>sentence</th>\n      <th>size</th>\n    </tr>\n  </thead>\n  <tbody>\n    <tr>\n      <th>1</th>\n      <td>The PRS-33.2 is Park Tools most versatile re...</td>\n      <td>540</td>\n    </tr>\n    <tr>\n      <th>3</th>\n      <td>Pull the clamp out of the top tube. This wil...</td>\n      <td>422</td>\n    </tr>\n    <tr>\n      <th>17</th>\n      <td>Next, check the set screws in the coupler th...</td>\n      <td>398</td>\n    </tr>\n    <tr>\n      <th>20</th>\n      <td>The drive shaft in the carriage goes to a sm...</td>\n      <td>343</td>\n    </tr>\n    <tr>\n      <th>2</th>\n      <td>Well begin with the clamp. Inspect the jaw c...</td>\n      <td>317</td>\n    </tr>\n    <tr>\n      <th>16</th>\n      <td>Perform a quick visual inspection of the mot...</td>\n      <td>291</td>\n    </tr>\n    <tr>\n      <th>6</th>\n      <td>The top tube of the repair stand may become ...</td>\n      <td>257</td>\n    </tr>\n    <tr>\n      <th>14</th>\n      <td>To access these screws, you will need to rem...</td>\n      <td>243</td>\n    </tr>\n    <tr>\n      <th>0</th>\n      <td>This article will review some typical yearly m...</td>\n      <td>216</td>\n    </tr>\n    <tr>\n      <th>13</th>\n      <td>It is possible for vibrations from the motor...</td>\n      <td>197</td>\n    </tr>\n    <tr>\n      <th>10</th>\n      <td>Loosen and remove the bolts holding the uppe...</td>\n      <td>159</td>\n    </tr>\n    <tr>\n      <th>11</th>\n      <td>Inspect the carriage and top tube for any we...</td>\n      <td>155</td>\n    </tr>\n    <tr>\n      <th>18</th>\n      <td>Next, take a look at the back side of the mo...</td>\n      <td>149</td>\n    </tr>\n    <tr>\n      <th>19</th>\n      <td>Check all eight of the other Phillips head s...</td>\n      <td>143</td>\n    </tr>\n    <tr>\n      <th>8</th>\n      <td>Tip the stand on its side and onto a sturdy ...</td>\n      <td>129</td>\n    </tr>\n    <tr>\n      <th>15</th>\n      <td>Next, unhook the wiring harness from the mot...</td>\n      <td>123</td>\n    </tr>\n    <tr>\n      <th>4</th>\n      <td>If the wear is acceptable, grease the thread...</td>\n      <td>116</td>\n    </tr>\n    <tr>\n      <th>5</th>\n      <td>While the clamp is removed, wipe out the ins...</td>\n      <td>105</td>\n    </tr>\n    <tr>\n      <th>12</th>\n      <td>With the carriage off, apply threadlocker to...</td>\n      <td>89</td>\n    </tr>\n    <tr>\n      <th>21</th>\n      <td>Reconnect the wiring harness to the motor an...</td>\n      <td>70</td>\n    </tr>\n    <tr>\n      <th>9</th>\n      <td>Loosen the cross bar mounting screws and rem...</td>\n      <td>64</td>\n    </tr>\n    <tr>\n      <th>7</th>\n      <td>Begin by driving the carriage nearly to the ...</td>\n      <td>64</td>\n    </tr>\n  </tbody>\n</table>\n</div>"
     },
     "execution_count": 11,
     "metadata": {},
     "output_type": "execute_result"
    }
   ],
   "source": [
    "df_clean = df[df['size'] > 47]\n",
    "df_clean.sort_values(by='size', ascending=False)"
   ],
   "metadata": {
    "collapsed": false
   }
  },
  {
   "cell_type": "code",
   "execution_count": 12,
   "outputs": [],
   "source": [
    "df_clean['sentence'] = df_clean['sentence'].apply(lambda x: x.replace('\"','').replace('\\n',' ').replace('\\t', ' ').strip())"
   ],
   "metadata": {
    "collapsed": false
   }
  },
  {
   "cell_type": "code",
   "execution_count": 13,
   "outputs": [
    {
     "data": {
      "text/plain": "                                             sentence  size\n1   The PRS-33.2 is Park Tools most versatile repa...   540\n3   Pull the clamp out of the top tube. This will ...   422\n17  Next, check the set screws in the coupler that...   398\n20  The drive shaft in the carriage goes to a smal...   343\n2   Well begin with the clamp. Inspect the jaw cov...   317\n16  Perform a quick visual inspection of the motor...   291\n6   The top tube of the repair stand may become lo...   257\n14  To access these screws, you will need to remov...   243\n0   This article will review some typical yearly m...   216\n13  It is possible for vibrations from the motor o...   197\n10  Loosen and remove the bolts holding the upper ...   159\n11  Inspect the carriage and top tube for any wear...   155\n18  Next, take a look at the back side of the moto...   149\n19  Check all eight of the other Phillips head scr...   143\n8   Tip the stand on its side and onto a sturdy it...   129\n15  Next, unhook the wiring harness from the motor...   123\n4   If the wear is acceptable, grease the threads ...   116\n5   While the clamp is removed, wipe out the insid...   105\n12  With the carriage off, apply threadlocker to t...    89\n21  Reconnect the wiring harness to the motor and ...    70\n9   Loosen the cross bar mounting screws and remov...    64\n7   Begin by driving the carriage nearly to the to...    64",
      "text/html": "<div>\n<style scoped>\n    .dataframe tbody tr th:only-of-type {\n        vertical-align: middle;\n    }\n\n    .dataframe tbody tr th {\n        vertical-align: top;\n    }\n\n    .dataframe thead th {\n        text-align: right;\n    }\n</style>\n<table border=\"1\" class=\"dataframe\">\n  <thead>\n    <tr style=\"text-align: right;\">\n      <th></th>\n      <th>sentence</th>\n      <th>size</th>\n    </tr>\n  </thead>\n  <tbody>\n    <tr>\n      <th>1</th>\n      <td>The PRS-33.2 is Park Tools most versatile repa...</td>\n      <td>540</td>\n    </tr>\n    <tr>\n      <th>3</th>\n      <td>Pull the clamp out of the top tube. This will ...</td>\n      <td>422</td>\n    </tr>\n    <tr>\n      <th>17</th>\n      <td>Next, check the set screws in the coupler that...</td>\n      <td>398</td>\n    </tr>\n    <tr>\n      <th>20</th>\n      <td>The drive shaft in the carriage goes to a smal...</td>\n      <td>343</td>\n    </tr>\n    <tr>\n      <th>2</th>\n      <td>Well begin with the clamp. Inspect the jaw cov...</td>\n      <td>317</td>\n    </tr>\n    <tr>\n      <th>16</th>\n      <td>Perform a quick visual inspection of the motor...</td>\n      <td>291</td>\n    </tr>\n    <tr>\n      <th>6</th>\n      <td>The top tube of the repair stand may become lo...</td>\n      <td>257</td>\n    </tr>\n    <tr>\n      <th>14</th>\n      <td>To access these screws, you will need to remov...</td>\n      <td>243</td>\n    </tr>\n    <tr>\n      <th>0</th>\n      <td>This article will review some typical yearly m...</td>\n      <td>216</td>\n    </tr>\n    <tr>\n      <th>13</th>\n      <td>It is possible for vibrations from the motor o...</td>\n      <td>197</td>\n    </tr>\n    <tr>\n      <th>10</th>\n      <td>Loosen and remove the bolts holding the upper ...</td>\n      <td>159</td>\n    </tr>\n    <tr>\n      <th>11</th>\n      <td>Inspect the carriage and top tube for any wear...</td>\n      <td>155</td>\n    </tr>\n    <tr>\n      <th>18</th>\n      <td>Next, take a look at the back side of the moto...</td>\n      <td>149</td>\n    </tr>\n    <tr>\n      <th>19</th>\n      <td>Check all eight of the other Phillips head scr...</td>\n      <td>143</td>\n    </tr>\n    <tr>\n      <th>8</th>\n      <td>Tip the stand on its side and onto a sturdy it...</td>\n      <td>129</td>\n    </tr>\n    <tr>\n      <th>15</th>\n      <td>Next, unhook the wiring harness from the motor...</td>\n      <td>123</td>\n    </tr>\n    <tr>\n      <th>4</th>\n      <td>If the wear is acceptable, grease the threads ...</td>\n      <td>116</td>\n    </tr>\n    <tr>\n      <th>5</th>\n      <td>While the clamp is removed, wipe out the insid...</td>\n      <td>105</td>\n    </tr>\n    <tr>\n      <th>12</th>\n      <td>With the carriage off, apply threadlocker to t...</td>\n      <td>89</td>\n    </tr>\n    <tr>\n      <th>21</th>\n      <td>Reconnect the wiring harness to the motor and ...</td>\n      <td>70</td>\n    </tr>\n    <tr>\n      <th>9</th>\n      <td>Loosen the cross bar mounting screws and remov...</td>\n      <td>64</td>\n    </tr>\n    <tr>\n      <th>7</th>\n      <td>Begin by driving the carriage nearly to the to...</td>\n      <td>64</td>\n    </tr>\n  </tbody>\n</table>\n</div>"
     },
     "execution_count": 13,
     "metadata": {},
     "output_type": "execute_result"
    }
   ],
   "source": [
    "df_clean.sort_values(by='size', ascending=False)"
   ],
   "metadata": {
    "collapsed": false
   }
  },
  {
   "cell_type": "code",
   "execution_count": 17,
   "outputs": [],
   "source": [
    "with open('../dataset/lingo_list.txt', 'r') as f:\n",
    "    text = f.readlines()\n",
    "lingo_list = []\n",
    "for i in text:\n",
    "    word = i.replace(\"'\",'').replace('\\n', '').strip().lower()\n",
    "    if word not in lingo_list:\n",
    "        lingo_list.append(word)"
   ],
   "metadata": {
    "collapsed": false
   }
  },
  {
   "cell_type": "code",
   "execution_count": 18,
   "outputs": [
    {
     "data": {
      "text/plain": "['aero',\n 'aerodynamic',\n 'axle',\n 'bar ends',\n 'bar plugs',\n 'barb',\n 'bashguard',\n 'basket',\n 'bead',\n 'bearing',\n 'bell',\n 'belt-drive',\n 'bicycle suspension',\n 'bicycle tools',\n 'bicycle wheel',\n 'bikes',\n 'bmx',\n 'bottle cage',\n 'bottom bracket',\n 'brake',\n 'brake lever',\n 'brake shifter',\n 'brakes',\n 'braze-on',\n 'cable',\n 'cable guide',\n 'cable housing',\n 'cadence',\n 'cargo bike',\n 'cartridge bearing',\n 'cassette',\n 'chain',\n 'chain pin',\n 'chain suck',\n 'chain tensioner',\n 'chainguard',\n 'chainring',\n 'chainrings',\n 'chainset',\n 'chainstay',\n 'chamois',\n 'cleat',\n 'cleats',\n 'clincher',\n 'coaster brake',\n 'cog',\n 'cogset',\n 'combi-pedal',\n 'cone',\n 'crank',\n 'crankarm',\n 'cranks',\n 'crankset',\n 'cross-country cycling',\n 'crown race',\n 'cup',\n 'cycling bib',\n 'cyclo-cross',\n 'cyclocomputer',\n 'cyclocross',\n 'derailleur',\n 'derailleur gears',\n 'derailleur hanger',\n 'di2',\n 'disc brake',\n 'down tube',\n 'downhill',\n 'downshift',\n 'drafting',\n 'drivetrain',\n 'dropout',\n 'drops',\n 'dunlop',\n 'dustcap',\n 'dynamo',\n 'electronic gear-shifting system',\n 'end cap',\n 'ergometer',\n 'eyelet',\n 'fatbiking',\n 'fender',\n 'fenders',\n 'fixed gear',\n 'fixie',\n 'flat',\n 'fork',\n 'fork crown',\n 'fork end',\n 'frame',\n 'freehub',\n 'freeride',\n 'freewheel',\n 'front mech',\n 'gear case',\n 'gears',\n 'granny gear',\n 'granny ring',\n 'gravel cycling',\n 'handlebar',\n 'handlebar tape',\n 'handlebars',\n 'hanger',\n 'head badge',\n 'head tube',\n 'headset',\n 'headsets',\n 'hub',\n 'hub dynamo',\n 'hub gear',\n 'hub gears',\n 'hybrid',\n 'indicator',\n 'inner tube',\n 'inner tubes',\n 'jockey wheel',\n 'kickstand',\n 'kom',\n 'locknut',\n 'lockring',\n 'luggage carrier',\n 'mountain bike',\n 'mtb pedal',\n 'mtb-pedal',\n 'mudguards',\n 'nipple',\n 'olive',\n 'olive and barb',\n 'pannier',\n 'panniers',\n 'pedal',\n 'pinch flat',\n 'presta',\n 'pulley wheel',\n 'pump track',\n 'qom',\n 'qr',\n 'quick release',\n 'quick release skewer',\n 'rack',\n 'randonnee',\n 'randonneur',\n 'randonneuring',\n 'reach',\n 'rear mech',\n 'reflector',\n 'resistance trainer',\n 'rim',\n 'rim brake',\n 'road bike',\n 'road cycling',\n 'road pedal',\n 'road race',\n 'road tires',\n 'road-pedal',\n 'rollers',\n 'saddle',\n 'saddlebag',\n 'schrader',\n 'seat',\n 'seat bag',\n 'seat lug',\n 'seat rails',\n 'seat tube',\n 'seatpost',\n 'seatstay',\n 'shaft-drive',\n 'shifter',\n 'shifting',\n 'shock absorber',\n 'single-speed',\n 'snake-bite',\n 'snakebite',\n 'soft-pedal',\n 'spd',\n 'spindle',\n 'spoke',\n 'spoke nipple',\n 'spokes',\n 'sprocket',\n 'steerer tube',\n 'stem',\n 'suspension',\n 'suspension fork',\n 'team time trial',\n 'tempo',\n 'time trial',\n 'tire',\n 'toe clips',\n 'top tube',\n 'training wheels',\n 'travel',\n 'trials',\n 'tt',\n 'ttt',\n 'tub',\n 'tubeless',\n 'tubeless tires',\n 'tubular',\n 'upshift',\n 'valve stem',\n 'velodrome',\n 'wheel',\n 'wheelie',\n 'wheels',\n 'wheelset']"
     },
     "execution_count": 18,
     "metadata": {},
     "output_type": "execute_result"
    }
   ],
   "source": [
    "sorted(lingo_list)"
   ],
   "metadata": {
    "collapsed": false
   }
  },
  {
   "cell_type": "markdown",
   "source": [
    "#### Annotate each sentence if word is in lingo list, with position of the word"
   ],
   "metadata": {
    "collapsed": false
   }
  },
  {
   "cell_type": "code",
   "execution_count": 19,
   "outputs": [],
   "source": [
    "import re\n",
    "import json\n",
    "\n",
    "def annotate_sentence_spacy(string):\n",
    "    # Comment, should both words and word chunks be present in entity list? ex. coaster brake, will also add brake to the list.\n",
    "\n",
    "    temp_list = []\n",
    "    doc = nlp(string)\n",
    "    word = [token for token in doc]\n",
    "    lemma_sentence = \" \".join([token.lemma_ for token in doc])\n",
    "    chunk_list = []\n",
    "    flag = False\n",
    "    entity_list = []\n",
    "    for chunk in doc.noun_chunks:\n",
    "        print(chunk)\n",
    "        if all(token.is_punct != True and '-PRON-' not in token.lemma_ for token in chunk) == True:\n",
    "            if len(chunk) > 1:\n",
    "                chunk_list.append(chunk)\n",
    "\n",
    "    # First find noun chunks of words in the lingo list\n",
    "    for noun in chunk_list:\n",
    "        print(noun.lemma_.lower())\n",
    "        #print('start', string.index(noun.text))\n",
    "        end_index = string.index(noun.text) + len(noun.text) -1\n",
    "        #print('end', end_index)\n",
    "        if noun.lemma_.lower() in lingo_list:\n",
    "\n",
    "            noun_list = [m.start() for m in re.finditer(noun.text, string)]\n",
    "            #print(word_list)\n",
    "            for i in noun_list:\n",
    "                start_index = i\n",
    "                end_index = start_index + len(noun.text)\n",
    "                entity = [start_index, end_index, f'\"cycLingo\"']\n",
    "                if entity not in entity_list:\n",
    "                    flag = True\n",
    "                    entity_list.append(entity)\n",
    "\n",
    "    # Find occurences of words in lingo list\n",
    "    for j in word:\n",
    "        #print('start', string.index(j.text))\n",
    "        end_index = string.index(j.text) + len(j.text) -1\n",
    "        #print('end', end_index)\n",
    "        if j.lemma_ in lingo_list:\n",
    "\n",
    "            word_list = [m.start() for m in re.finditer(j.text, string)]\n",
    "            #print(word_list)\n",
    "            for word in word_list:\n",
    "                start_index = word\n",
    "                end_index = start_index + len(j.text)\n",
    "                entity = [start_index, end_index, f'\"cycLingo\"']\n",
    "                if entity not in entity_list:\n",
    "                    flag = True\n",
    "                    entity_list.append(entity)\n",
    "    #print(lemma_sentence)\n",
    "    sentence_list = [string,flag, entity_list]\n",
    "    jsonl_anno = {}\n",
    "    jsonl_anno[f'\"text\"'] = string\n",
    "    jsonl_anno[f'\"label\"'] = entity_list\n",
    "    temp_list.append(sentence_list)\n",
    "\n",
    "    return jsonl_anno"
   ],
   "metadata": {
    "collapsed": false
   }
  },
  {
   "cell_type": "code",
   "execution_count": 20,
   "outputs": [
    {
     "name": "stdout",
     "output_type": "stream",
     "text": [
      "almost all unicycles\n",
      "Crank length\n",
      "a major factor\n",
      "how much force\n",
      "the wheel\n",
      "almost all unicycle\n",
      "crank length\n",
      "a major factor\n",
      "how much force\n",
      "the wheel\n"
     ]
    },
    {
     "data": {
      "text/plain": "{'\"text\"': 'As almost all unicycles are ungeared, Crank length is a major factor in determining how much force is transmitted to the wheel',\n '\"label\"': [[121, 126, '\"cycLingo\"']]}"
     },
     "execution_count": 20,
     "metadata": {},
     "output_type": "execute_result"
    }
   ],
   "source": [
    "string = 'As almost all unicycles are ungeared, Crank length is a major factor in determining how much force is transmitted to the wheel'\n",
    "annotate_sentence_spacy(string)"
   ],
   "metadata": {
    "collapsed": false
   }
  },
  {
   "cell_type": "markdown",
   "source": [],
   "metadata": {
    "collapsed": false
   }
  },
  {
   "cell_type": "code",
   "execution_count": 21,
   "outputs": [
    {
     "data": {
      "text/plain": "                                             sentence  size\n0   This article will review some typical yearly m...   216\n1   The PRS-33.2 is Park Tools most versatile repa...   540\n2   Well begin with the clamp. Inspect the jaw cov...   317\n3   Pull the clamp out of the top tube. This will ...   422\n4   If the wear is acceptable, grease the threads ...   116\n5   While the clamp is removed, wipe out the insid...   105\n6   The top tube of the repair stand may become lo...   257\n7   Begin by driving the carriage nearly to the to...    64\n8   Tip the stand on its side and onto a sturdy it...   129\n9   Loosen the cross bar mounting screws and remov...    64\n10  Loosen and remove the bolts holding the upper ...   159\n11  Inspect the carriage and top tube for any wear...   155\n12  With the carriage off, apply threadlocker to t...    89\n13  It is possible for vibrations from the motor o...   197\n14  To access these screws, you will need to remov...   243\n15  Next, unhook the wiring harness from the motor...   123\n16  Perform a quick visual inspection of the motor...   291\n17  Next, check the set screws in the coupler that...   398\n18  Next, take a look at the back side of the moto...   149\n19  Check all eight of the other Phillips head scr...   143\n20  The drive shaft in the carriage goes to a smal...   343\n21  Reconnect the wiring harness to the motor and ...    70",
      "text/html": "<div>\n<style scoped>\n    .dataframe tbody tr th:only-of-type {\n        vertical-align: middle;\n    }\n\n    .dataframe tbody tr th {\n        vertical-align: top;\n    }\n\n    .dataframe thead th {\n        text-align: right;\n    }\n</style>\n<table border=\"1\" class=\"dataframe\">\n  <thead>\n    <tr style=\"text-align: right;\">\n      <th></th>\n      <th>sentence</th>\n      <th>size</th>\n    </tr>\n  </thead>\n  <tbody>\n    <tr>\n      <th>0</th>\n      <td>This article will review some typical yearly m...</td>\n      <td>216</td>\n    </tr>\n    <tr>\n      <th>1</th>\n      <td>The PRS-33.2 is Park Tools most versatile repa...</td>\n      <td>540</td>\n    </tr>\n    <tr>\n      <th>2</th>\n      <td>Well begin with the clamp. Inspect the jaw cov...</td>\n      <td>317</td>\n    </tr>\n    <tr>\n      <th>3</th>\n      <td>Pull the clamp out of the top tube. This will ...</td>\n      <td>422</td>\n    </tr>\n    <tr>\n      <th>4</th>\n      <td>If the wear is acceptable, grease the threads ...</td>\n      <td>116</td>\n    </tr>\n    <tr>\n      <th>5</th>\n      <td>While the clamp is removed, wipe out the insid...</td>\n      <td>105</td>\n    </tr>\n    <tr>\n      <th>6</th>\n      <td>The top tube of the repair stand may become lo...</td>\n      <td>257</td>\n    </tr>\n    <tr>\n      <th>7</th>\n      <td>Begin by driving the carriage nearly to the to...</td>\n      <td>64</td>\n    </tr>\n    <tr>\n      <th>8</th>\n      <td>Tip the stand on its side and onto a sturdy it...</td>\n      <td>129</td>\n    </tr>\n    <tr>\n      <th>9</th>\n      <td>Loosen the cross bar mounting screws and remov...</td>\n      <td>64</td>\n    </tr>\n    <tr>\n      <th>10</th>\n      <td>Loosen and remove the bolts holding the upper ...</td>\n      <td>159</td>\n    </tr>\n    <tr>\n      <th>11</th>\n      <td>Inspect the carriage and top tube for any wear...</td>\n      <td>155</td>\n    </tr>\n    <tr>\n      <th>12</th>\n      <td>With the carriage off, apply threadlocker to t...</td>\n      <td>89</td>\n    </tr>\n    <tr>\n      <th>13</th>\n      <td>It is possible for vibrations from the motor o...</td>\n      <td>197</td>\n    </tr>\n    <tr>\n      <th>14</th>\n      <td>To access these screws, you will need to remov...</td>\n      <td>243</td>\n    </tr>\n    <tr>\n      <th>15</th>\n      <td>Next, unhook the wiring harness from the motor...</td>\n      <td>123</td>\n    </tr>\n    <tr>\n      <th>16</th>\n      <td>Perform a quick visual inspection of the motor...</td>\n      <td>291</td>\n    </tr>\n    <tr>\n      <th>17</th>\n      <td>Next, check the set screws in the coupler that...</td>\n      <td>398</td>\n    </tr>\n    <tr>\n      <th>18</th>\n      <td>Next, take a look at the back side of the moto...</td>\n      <td>149</td>\n    </tr>\n    <tr>\n      <th>19</th>\n      <td>Check all eight of the other Phillips head scr...</td>\n      <td>143</td>\n    </tr>\n    <tr>\n      <th>20</th>\n      <td>The drive shaft in the carriage goes to a smal...</td>\n      <td>343</td>\n    </tr>\n    <tr>\n      <th>21</th>\n      <td>Reconnect the wiring harness to the motor and ...</td>\n      <td>70</td>\n    </tr>\n  </tbody>\n</table>\n</div>"
     },
     "execution_count": 21,
     "metadata": {},
     "output_type": "execute_result"
    }
   ],
   "source": [
    "df_park = df_clean.drop_duplicates()\n",
    "df_park"
   ],
   "metadata": {
    "collapsed": false
   }
  },
  {
   "cell_type": "code",
   "execution_count": 22,
   "outputs": [
    {
     "name": "stdout",
     "output_type": "stream",
     "text": [
      "This article\n",
      "some typical yearly maintenance procedures\n",
      "your PRS-33\n",
      "PRS-33.2\n",
      "These procedures\n",
      "your stand\n",
      "optimal shape\n",
      "peak season\n",
      "larger problems\n",
      "the road\n",
      "this article\n",
      "some typical yearly maintenance procedure\n",
      "your prs-33\n",
      "these procedure\n",
      "your stand\n",
      "optimal shape\n",
      "peak season\n",
      "large problem\n",
      "the road\n",
      "The PRS-33.2\n",
      "Park Tools\n",
      "most versatile repair stand\n",
      "a powered motor\n",
      "plenty\n",
      "moving parts\n",
      "your PRS-33.2\n",
      "This article\n",
      "some typical yearly maintenance procedures\n",
      "your PRS-33.2\n",
      "These procedures\n",
      "your stand\n",
      "optimal shape\n",
      "peak season\n",
      "larger problems\n",
      "the road\n",
      "you\n",
      "any issues\n",
      "your PRS-33.2\n",
      "PRS-33\n",
      "that\n",
      "the procedures\n",
      "PRS-33\n",
      "PRS-33.2\n",
      "Troubleshooting\n",
      "us\n",
      "the prs-33.2\n",
      "park tools\n",
      "most versatile repair stand\n",
      "a powered motor\n",
      "move part\n",
      "your prs-33.2\n",
      "this article\n",
      "some typical yearly maintenance procedure\n",
      "your prs-33.2\n",
      "these procedure\n",
      "your stand\n",
      "optimal shape\n",
      "peak season\n",
      "large problem\n",
      "the road\n",
      "any issue\n",
      "your prs-33.2\n",
      "the procedure\n",
      "the clamp\n",
      "the jaw\n",
      "damage\n",
      "missing clips\n",
      "repair\n",
      "new jaw covers\n",
      "it\n",
      "the new covers\n",
      "a pedal wrench\n",
      "install\n",
      "they\n",
      "the blue saddle pad\n",
      "wear\n",
      "the clamp\n",
      "the jaw\n",
      "miss clip\n",
      "new jaw cover\n",
      "the new cover\n",
      "a pedal wrench\n",
      "the blue saddle pad\n",
      "the clamp\n",
      "the top tube\n",
      "This\n",
      "you\n",
      "a view\n",
      "the contact surfaces\n",
      "the lock block\n",
      "The lock blocks\n",
      "the clamp\n",
      "a wear item\n",
      "the contact surfaces\n",
      "the lock blocks\n",
      "they\n",
      "a curve\n",
      "develops\n",
      "the blocks\n",
      "the spring\n",
      "the clamp\n",
      "this\n",
      "you\n",
      "new lock blocks\n",
      "the clamp\n",
      "the top tube\n",
      "a view\n",
      "the contact surface\n",
      "the lock block\n",
      "the lock block\n",
      "the clamp\n",
      "a wear item\n",
      "the contact surface\n",
      "the lock block\n",
      "a curve\n",
      "the block\n",
      "the spring\n",
      "the clamp\n",
      "new lock block\n",
      "the wear\n",
      "the threads\n",
      "the lock block\n",
      "grease\n",
      "the contact surfaces\n",
      "the wear\n",
      "the thread\n",
      "the lock block\n",
      "the contact surface\n",
      "the clamp\n",
      "the inside\n",
      "the top tube\n",
      "the lock blocks\n",
      "clamp\n",
      "the clamp\n",
      "the inside\n",
      "the top tube\n",
      "the lock block\n",
      "The top tube\n",
      "the repair stand\n",
      "time\n",
      "vibrations\n",
      "the motor\n",
      "This\n",
      "the clamp bolt\n",
      "inital setup\n",
      "this\n",
      "some time\n",
      "the top tube\n",
      "the repair stand\n",
      "the motor\n",
      "the clamp bolt\n",
      "inital setup\n",
      "some time\n",
      "the carriage\n",
      "the top\n",
      "the stand\n",
      "the carriage\n",
      "the top\n",
      "the stand\n",
      "Tip\n",
      "the stand\n",
      "its side\n",
      "a sturdy item\n",
      "a shop stool\n",
      "It\n",
      "someone\n",
      "you\n",
      "this step\n",
      "the stand\n",
      "its side\n",
      "a sturdy item\n",
      "a shop stool\n",
      "this step\n",
      "the cross bar\n",
      "mounting screws\n",
      "the crossbar\n",
      "the cross bar\n",
      "mount screw\n",
      "the crossbar\n",
      "the bolts\n",
      "the upper chain retainer\n",
      "the upright\n",
      "the upper chain retention bolt\n",
      "the chain\n",
      "the carriage\n",
      "the bolt\n",
      "the upper chain retainer\n",
      "the upright\n",
      "the upper chain retention bolt\n",
      "the chain\n",
      "the carriage\n",
      "the carriage\n",
      "top tube\n",
      "any wear\n",
      "that\n",
      "excessive wear\n",
      "both\n",
      "the carriage\n",
      "top tube\n",
      "any wear\n",
      "excessive wear\n",
      "the carriage\n",
      "threadlocker\n",
      "the bolt\n",
      "torque\n",
      "60 nM.\n",
      "the carriage\n",
      "the bolt\n",
      "60 nm.\n",
      "It\n",
      "vibrations\n",
      "the motor\n",
      "the stand\n",
      "certain screws\n",
      "bolts\n",
      "time\n",
      "this reason\n",
      "it\n",
      "a good idea\n",
      "these\n",
      "tightness\n",
      "the motor\n",
      "the stand\n",
      "certain screw\n",
      "this reason\n",
      "a good idea\n",
      "these screws\n",
      "you\n",
      "the motor shroud/work tray\n",
      "this\n",
      "the stand\n",
      "the two T15 screws\n",
      "four M5 bolts\n",
      "the bottom\n",
      "the tray\n",
      "This\n",
      "you\n",
      "the tray/shroud\n",
      "these screw\n",
      "the stand\n",
      "the two t15 screw\n",
      "four m5 bolt\n",
      "the bottom\n",
      "the tray\n",
      "the wiring harness\n",
      "the motor\n",
      "the wires\n",
      "you\n",
      "the tray/shroud\n",
      "the motor\n",
      "the wiring harness\n",
      "the motor\n",
      "the wire\n",
      "the motor\n",
      "a quick visual inspection\n",
      "the motor and internal components\n",
      "a set\n",
      "four bolts\n",
      "the motor\n",
      "the motor mount\n",
      "another set\n",
      "four bolts\n",
      "the mount\n",
      "the carriage\n",
      "these bolts\n",
      "5 Newton meters\n",
      "a quick visual inspection\n",
      "the motor and internal component\n",
      "a set\n",
      "four bolt\n",
      "the motor\n",
      "the motor mount\n",
      "another set\n",
      "four bolt\n",
      "the mount\n",
      "the carriage\n",
      "these bolt\n",
      "5 newton meter\n",
      "the set screws\n",
      "the coupler\n",
      "that\n",
      "the motor\n",
      "the drive shaft\n",
      "the carriage\n",
      "These set screws\n",
      "charge\n",
      "transmitting power\n",
      "time\n",
      "the set screws\n",
      "a time\n",
      "medium-strength threadlocker\n",
      "the threads\n",
      "the set screws\n",
      "the flat part\n",
      "the shaft\n",
      "five Newton meters\n",
      "the set screw\n",
      "the coupler\n",
      "the motor\n",
      "the drive shaft\n",
      "the carriage\n",
      "these set screw\n",
      "transmit power\n",
      "the set screw\n",
      "a time\n",
      "the thread\n",
      "the set screw\n",
      "the flat part\n",
      "the shaft\n",
      "five newton meter\n",
      "a look\n",
      "the back side\n",
      "the motor\n",
      "two screws\n",
      "Phillips heads\n",
      "these\n",
      "they\n",
      "a look\n",
      "the back side\n",
      "the motor\n",
      "two screw\n",
      "phillips head\n",
      "the other Phillips head screws\n",
      "that\n",
      "the motor body\n",
      "these\n",
      "they\n",
      "the other phillips head screw\n",
      "the motor body\n",
      "The drive shaft\n",
      "the carriage\n",
      "a small gear\n",
      "that\n",
      "a set screw\n",
      "the larger gear\n",
      "that\n",
      "two set screws\n",
      "You\n",
      "the position\n",
      "the motor unit\n",
      "these set screws\n",
      "tightening\n",
      "the driven gear\n",
      "line\n",
      "the drive gear\n",
      "the set screws\n",
      "the drive shaft\n",
      "the carriage\n",
      "a small gear\n",
      "a set screw\n",
      "the large gear\n",
      "two set screw\n",
      "the position\n",
      "the motor unit\n",
      "these set screw\n",
      "the drive gear\n",
      "the drive gear\n",
      "the set screw\n",
      "the wiring harness\n",
      "the motor\n",
      "the shroud\n",
      "the wiring harness\n",
      "the motor\n",
      "the shroud\n"
     ]
    },
    {
     "data": {
      "text/plain": "                                             sentence  size  \\\n0   This article will review some typical yearly m...   216   \n1   The PRS-33.2 is Park Tools most versatile repa...   540   \n2   Well begin with the clamp. Inspect the jaw cov...   317   \n3   Pull the clamp out of the top tube. This will ...   422   \n4   If the wear is acceptable, grease the threads ...   116   \n5   While the clamp is removed, wipe out the insid...   105   \n6   The top tube of the repair stand may become lo...   257   \n7   Begin by driving the carriage nearly to the to...    64   \n8   Tip the stand on its side and onto a sturdy it...   129   \n9   Loosen the cross bar mounting screws and remov...    64   \n10  Loosen and remove the bolts holding the upper ...   159   \n11  Inspect the carriage and top tube for any wear...   155   \n12  With the carriage off, apply threadlocker to t...    89   \n13  It is possible for vibrations from the motor o...   197   \n14  To access these screws, you will need to remov...   243   \n15  Next, unhook the wiring harness from the motor...   123   \n16  Perform a quick visual inspection of the motor...   291   \n17  Next, check the set screws in the coupler that...   398   \n18  Next, take a look at the back side of the moto...   149   \n19  Check all eight of the other Phillips head scr...   143   \n20  The drive shaft in the carriage goes to a smal...   343   \n21  Reconnect the wiring harness to the motor and ...    70   \n\n                                                 anno  \n0   {'\"text\"': 'This article will review some typi...  \n1   {'\"text\"': 'The PRS-33.2 is Park Tools most ve...  \n2   {'\"text\"': 'Well begin with the clamp. Inspect...  \n3   {'\"text\"': 'Pull the clamp out of the top tube...  \n4   {'\"text\"': 'If the wear is acceptable, grease ...  \n5   {'\"text\"': 'While the clamp is removed, wipe o...  \n6   {'\"text\"': 'The top tube of the repair stand m...  \n7   {'\"text\"': 'Begin by driving the carriage near...  \n8   {'\"text\"': 'Tip the stand on its side and onto...  \n9   {'\"text\"': 'Loosen the cross bar mounting scre...  \n10  {'\"text\"': 'Loosen and remove the bolts holdin...  \n11  {'\"text\"': 'Inspect the carriage and top tube ...  \n12  {'\"text\"': 'With the carriage off, apply threa...  \n13  {'\"text\"': 'It is possible for vibrations from...  \n14  {'\"text\"': 'To access these screws, you will n...  \n15  {'\"text\"': 'Next, unhook the wiring harness fr...  \n16  {'\"text\"': 'Perform a quick visual inspection ...  \n17  {'\"text\"': 'Next, check the set screws in the ...  \n18  {'\"text\"': 'Next, take a look at the back side...  \n19  {'\"text\"': 'Check all eight of the other Phill...  \n20  {'\"text\"': 'The drive shaft in the carriage go...  \n21  {'\"text\"': 'Reconnect the wiring harness to th...  ",
      "text/html": "<div>\n<style scoped>\n    .dataframe tbody tr th:only-of-type {\n        vertical-align: middle;\n    }\n\n    .dataframe tbody tr th {\n        vertical-align: top;\n    }\n\n    .dataframe thead th {\n        text-align: right;\n    }\n</style>\n<table border=\"1\" class=\"dataframe\">\n  <thead>\n    <tr style=\"text-align: right;\">\n      <th></th>\n      <th>sentence</th>\n      <th>size</th>\n      <th>anno</th>\n    </tr>\n  </thead>\n  <tbody>\n    <tr>\n      <th>0</th>\n      <td>This article will review some typical yearly m...</td>\n      <td>216</td>\n      <td>{'\"text\"': 'This article will review some typi...</td>\n    </tr>\n    <tr>\n      <th>1</th>\n      <td>The PRS-33.2 is Park Tools most versatile repa...</td>\n      <td>540</td>\n      <td>{'\"text\"': 'The PRS-33.2 is Park Tools most ve...</td>\n    </tr>\n    <tr>\n      <th>2</th>\n      <td>Well begin with the clamp. Inspect the jaw cov...</td>\n      <td>317</td>\n      <td>{'\"text\"': 'Well begin with the clamp. Inspect...</td>\n    </tr>\n    <tr>\n      <th>3</th>\n      <td>Pull the clamp out of the top tube. This will ...</td>\n      <td>422</td>\n      <td>{'\"text\"': 'Pull the clamp out of the top tube...</td>\n    </tr>\n    <tr>\n      <th>4</th>\n      <td>If the wear is acceptable, grease the threads ...</td>\n      <td>116</td>\n      <td>{'\"text\"': 'If the wear is acceptable, grease ...</td>\n    </tr>\n    <tr>\n      <th>5</th>\n      <td>While the clamp is removed, wipe out the insid...</td>\n      <td>105</td>\n      <td>{'\"text\"': 'While the clamp is removed, wipe o...</td>\n    </tr>\n    <tr>\n      <th>6</th>\n      <td>The top tube of the repair stand may become lo...</td>\n      <td>257</td>\n      <td>{'\"text\"': 'The top tube of the repair stand m...</td>\n    </tr>\n    <tr>\n      <th>7</th>\n      <td>Begin by driving the carriage nearly to the to...</td>\n      <td>64</td>\n      <td>{'\"text\"': 'Begin by driving the carriage near...</td>\n    </tr>\n    <tr>\n      <th>8</th>\n      <td>Tip the stand on its side and onto a sturdy it...</td>\n      <td>129</td>\n      <td>{'\"text\"': 'Tip the stand on its side and onto...</td>\n    </tr>\n    <tr>\n      <th>9</th>\n      <td>Loosen the cross bar mounting screws and remov...</td>\n      <td>64</td>\n      <td>{'\"text\"': 'Loosen the cross bar mounting scre...</td>\n    </tr>\n    <tr>\n      <th>10</th>\n      <td>Loosen and remove the bolts holding the upper ...</td>\n      <td>159</td>\n      <td>{'\"text\"': 'Loosen and remove the bolts holdin...</td>\n    </tr>\n    <tr>\n      <th>11</th>\n      <td>Inspect the carriage and top tube for any wear...</td>\n      <td>155</td>\n      <td>{'\"text\"': 'Inspect the carriage and top tube ...</td>\n    </tr>\n    <tr>\n      <th>12</th>\n      <td>With the carriage off, apply threadlocker to t...</td>\n      <td>89</td>\n      <td>{'\"text\"': 'With the carriage off, apply threa...</td>\n    </tr>\n    <tr>\n      <th>13</th>\n      <td>It is possible for vibrations from the motor o...</td>\n      <td>197</td>\n      <td>{'\"text\"': 'It is possible for vibrations from...</td>\n    </tr>\n    <tr>\n      <th>14</th>\n      <td>To access these screws, you will need to remov...</td>\n      <td>243</td>\n      <td>{'\"text\"': 'To access these screws, you will n...</td>\n    </tr>\n    <tr>\n      <th>15</th>\n      <td>Next, unhook the wiring harness from the motor...</td>\n      <td>123</td>\n      <td>{'\"text\"': 'Next, unhook the wiring harness fr...</td>\n    </tr>\n    <tr>\n      <th>16</th>\n      <td>Perform a quick visual inspection of the motor...</td>\n      <td>291</td>\n      <td>{'\"text\"': 'Perform a quick visual inspection ...</td>\n    </tr>\n    <tr>\n      <th>17</th>\n      <td>Next, check the set screws in the coupler that...</td>\n      <td>398</td>\n      <td>{'\"text\"': 'Next, check the set screws in the ...</td>\n    </tr>\n    <tr>\n      <th>18</th>\n      <td>Next, take a look at the back side of the moto...</td>\n      <td>149</td>\n      <td>{'\"text\"': 'Next, take a look at the back side...</td>\n    </tr>\n    <tr>\n      <th>19</th>\n      <td>Check all eight of the other Phillips head scr...</td>\n      <td>143</td>\n      <td>{'\"text\"': 'Check all eight of the other Phill...</td>\n    </tr>\n    <tr>\n      <th>20</th>\n      <td>The drive shaft in the carriage goes to a smal...</td>\n      <td>343</td>\n      <td>{'\"text\"': 'The drive shaft in the carriage go...</td>\n    </tr>\n    <tr>\n      <th>21</th>\n      <td>Reconnect the wiring harness to the motor and ...</td>\n      <td>70</td>\n      <td>{'\"text\"': 'Reconnect the wiring harness to th...</td>\n    </tr>\n  </tbody>\n</table>\n</div>"
     },
     "execution_count": 22,
     "metadata": {},
     "output_type": "execute_result"
    }
   ],
   "source": [
    "df_park['anno'] = df_park['sentence'].apply(lambda x: annotate_sentence_spacy(x))\n",
    "df_park"
   ],
   "metadata": {
    "collapsed": false
   }
  },
  {
   "cell_type": "code",
   "execution_count": 23,
   "outputs": [],
   "source": [
    "def is_anno(x):\n",
    "    if len(x['\"label\"']) < 1:\n",
    "        return False\n",
    "    else:\n",
    "        return True"
   ],
   "metadata": {
    "collapsed": false
   }
  },
  {
   "cell_type": "code",
   "execution_count": 24,
   "outputs": [
    {
     "data": {
      "text/plain": "                                             sentence  size  \\\n2   Well begin with the clamp. Inspect the jaw cov...   317   \n10  Loosen and remove the bolts holding the upper ...   159   \n11  Inspect the carriage and top tube for any wear...   155   \n17  Next, check the set screws in the coupler that...   398   \n\n                                                 anno  is_anno  \n2   {'\"text\"': 'Well begin with the clamp. Inspect...     True  \n10  {'\"text\"': 'Loosen and remove the bolts holdin...     True  \n11  {'\"text\"': 'Inspect the carriage and top tube ...     True  \n17  {'\"text\"': 'Next, check the set screws in the ...     True  ",
      "text/html": "<div>\n<style scoped>\n    .dataframe tbody tr th:only-of-type {\n        vertical-align: middle;\n    }\n\n    .dataframe tbody tr th {\n        vertical-align: top;\n    }\n\n    .dataframe thead th {\n        text-align: right;\n    }\n</style>\n<table border=\"1\" class=\"dataframe\">\n  <thead>\n    <tr style=\"text-align: right;\">\n      <th></th>\n      <th>sentence</th>\n      <th>size</th>\n      <th>anno</th>\n      <th>is_anno</th>\n    </tr>\n  </thead>\n  <tbody>\n    <tr>\n      <th>2</th>\n      <td>Well begin with the clamp. Inspect the jaw cov...</td>\n      <td>317</td>\n      <td>{'\"text\"': 'Well begin with the clamp. Inspect...</td>\n      <td>True</td>\n    </tr>\n    <tr>\n      <th>10</th>\n      <td>Loosen and remove the bolts holding the upper ...</td>\n      <td>159</td>\n      <td>{'\"text\"': 'Loosen and remove the bolts holdin...</td>\n      <td>True</td>\n    </tr>\n    <tr>\n      <th>11</th>\n      <td>Inspect the carriage and top tube for any wear...</td>\n      <td>155</td>\n      <td>{'\"text\"': 'Inspect the carriage and top tube ...</td>\n      <td>True</td>\n    </tr>\n    <tr>\n      <th>17</th>\n      <td>Next, check the set screws in the coupler that...</td>\n      <td>398</td>\n      <td>{'\"text\"': 'Next, check the set screws in the ...</td>\n      <td>True</td>\n    </tr>\n  </tbody>\n</table>\n</div>"
     },
     "execution_count": 24,
     "metadata": {},
     "output_type": "execute_result"
    }
   ],
   "source": [
    "df_park['is_anno'] = df_park['anno'].apply(lambda x: is_anno(x) )\n",
    "df_park = df_park[df_park['is_anno'] == True]\n",
    "\n",
    "df_park"
   ],
   "metadata": {
    "collapsed": false
   }
  },
  {
   "cell_type": "code",
   "execution_count": 25,
   "outputs": [],
   "source": [
    "with open('../dataset/anno_true.jsonl', 'w') as f:\n",
    "    for i in df_park['anno']:\n",
    "        f.writelines(str(i).replace('\\'\"','\\\"').replace('\\\"\\'','\\\"').replace(': \\'',':\"').replace('\\',','\",') +'\\n')"
   ],
   "metadata": {
    "collapsed": false
   }
  },
  {
   "cell_type": "code",
   "execution_count": 27,
   "outputs": [],
   "source": [
    "df_park.to_csv('../dataset/annotated_dataset.csv', sep=';')"
   ],
   "metadata": {
    "collapsed": false
   }
  },
  {
   "cell_type": "code",
   "execution_count": null,
   "outputs": [],
   "source": [],
   "metadata": {
    "collapsed": false
   }
  }
 ],
 "metadata": {
  "kernelspec": {
   "display_name": "Python 3",
   "language": "python",
   "name": "python3"
  },
  "language_info": {
   "codemirror_mode": {
    "name": "ipython",
    "version": 2
   },
   "file_extension": ".py",
   "mimetype": "text/x-python",
   "name": "python",
   "nbconvert_exporter": "python",
   "pygments_lexer": "ipython2",
   "version": "2.7.6"
  }
 },
 "nbformat": 4,
 "nbformat_minor": 0
}
